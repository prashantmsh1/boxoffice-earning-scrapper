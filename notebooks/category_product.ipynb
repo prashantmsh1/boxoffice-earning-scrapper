{
 "cells": [
  {
   "cell_type": "code",
   "execution_count": 1,
   "id": "375fc12e-696d-44c0-9935-9d6c1ab618fd",
   "metadata": {},
   "outputs": [],
   "source": [
    "import requests\n",
    "from requests_html import HTML\n",
    "from selenium import webdriver\n",
    "import time\n",
    "from selenium.webdriver.chrome.options import Options # for headless mode\n"
   ]
  },
  {
   "cell_type": "code",
   "execution_count": 2,
   "id": "7e3e80de",
   "metadata": {},
   "outputs": [
    {
     "name": "stderr",
     "output_type": "stream",
     "text": [
      "The chromedriver version (120.0.6099.109) detected in PATH at C:\\chromedriver\\chromedriver.exe might not be compatible with the detected chrome version (121.0.6167.160); currently, chromedriver 121.0.6167.85 is recommended for chrome 121.*, so it is advised to delete the driver in PATH and retry\n"
     ]
    }
   ],
   "source": [
    "options = Options()\n",
    "options.add_argument(\"--headless\") # Runs Chrome in headless mode.\n",
    "driver = webdriver.Chrome(options=options)\n"
   ]
  },
  {
   "cell_type": "code",
   "execution_count": 3,
   "id": "6a249255",
   "metadata": {},
   "outputs": [],
   "source": [
    "categories = [\n",
    "    \"https://www.amazon.in/gp/bestsellers/boost/ref=zg_bs_nav_boost_0\",\n",
    "    \"https://www.amazon.in/gp/bestsellers/electronics/ref=zg_bs_nav_electronics_0\",\n",
    "    \"https://www.amazon.in/gp/bestsellers/electronics/1389335031/ref=zg_bs_nav_electronics_1\",]\n"
   ]
  },
  {
   "cell_type": "code",
   "execution_count": 4,
   "id": "a03e3494",
   "metadata": {},
   "outputs": [],
   "source": [
    "first_url = categories[0]"
   ]
  },
  {
   "cell_type": "code",
   "execution_count": 5,
   "id": "5b74efb4",
   "metadata": {},
   "outputs": [],
   "source": [
    "driver.get(first_url)"
   ]
  },
  {
   "cell_type": "code",
   "execution_count": 6,
   "id": "a02b78d3",
   "metadata": {},
   "outputs": [],
   "source": [
    "body_el = driver.find_element(by=\"tag name\", value=\"body\")\n",
    "html_str = body_el.get_attribute(\"innerHTML\")"
   ]
  },
  {
   "cell_type": "code",
   "execution_count": 7,
   "id": "53cdaae8",
   "metadata": {},
   "outputs": [],
   "source": [
    "html_obj = HTML(html=html_str)"
   ]
  },
  {
   "cell_type": "code",
   "execution_count": 8,
   "id": "ab6c814e",
   "metadata": {},
   "outputs": [
    {
     "name": "stdout",
     "output_type": "stream",
     "text": [
      "['/gp/help/customer/display.html?nodeId=200545940&ref_=footer_cou', '/discover/?ref_=nav_ListFlyout_sbl', '/SOFTSPUN-Microfiber-Cleaning-Cloth-340GSM/dp/B07GBZ1KV8/ref=zg_bs_g_boost_d_sccl_6/260-6490592-1592110?psc=1', '/gp/css/order-history?ref_=nav_AccountFlyout_orders', '/deals?ref_=nav_cs_gb', '/amazon-coupons/b/?_encoding=UTF8&node=10465704031&ref_=nav_cs_coupons', '/Honey-Twigs-Tasterz-Combo-Pack/dp/B0BBS6YFZR/ref=zg_bs_g_boost_d_sccl_7/260-6490592-1592110?psc=1', '/ASGARD-Melt-Blown-Fabric-Disposable-Unisex/dp/B08B1TVYT1/ref=zg_bs_g_boost_d_sccl_23/260-6490592-1592110?psc=1', '/SOFTSPUN-Microfiber-Cleaning-Multi-Color-Absorbent/dp/B081L7PDR2/ref=zg_bs_g_boost_d_sccl_27/260-6490592-1592110?psc=1', '/product-reviews/B077BFH786/ref=zg_bs_g_boost_d_sccl_1_cr/260-6490592-1592110', '/computers-and-accessories/b/?ie=UTF8&node=976392031&ref_=nav_cs_pc', '/product-reviews/B0B4GBRRR3/ref=zg_bs_g_boost_d_sccl_9_cr/260-6490592-1592110', '/product-reviews/B081L7PDR2/ref=zg_bs_g_boost_d_sccl_27_cr/260-6490592-1592110', '/product-reviews/B07MRNY1QQ/ref=zg_bs_g_boost_d_sccl_17_cr/260-6490592-1592110', '/auto-deliveries?ref_=nav_AccountFlyout_sns', '/gp/help/customer/display.html?nodeId=200534380&ref_=footer_privacy', '/amazon-launchpad/b/?ie=UTF8&node=10894223031&ref_=topnav_storetab_lpdin', '/fresh?ref_=nav_cs_fresh', '/Kindle-eBooks/b/?ie=UTF8&node=1634753031&ref_=nav_cs_kindle_books', '/gp/bestsellers/boost/10894251031/ref=zg_bs_nav_boost_1', '/gp/primecentral?ref_=nav_AccountFlyout_prime', '/product-reviews/B08CMWTNFL/ref=zg_bs_g_boost_d_sccl_20_cr/260-6490592-1592110', '/gp/movers-and-shakers/boost/ref=zg_bs_tab_t_boost_bsms', '/gcx/-/gfhz/?ref_=nav_cs_giftfinder', '/product-reviews/B08SQ6S5HF/ref=zg_bs_g_boost_d_sccl_26_cr/260-6490592-1592110', '/Car-Motorbike-Store/b/?ie=UTF8&node=4772060031&ref_=nav_cs_automotive', '/Hykes-Compression-Support-Running-Cycling/dp/B07HKW1YP1/ref=zg_bs_g_boost_d_sccl_24/260-6490592-1592110?psc=1', '/Auravedic-Kumkumadi-Saffron-Brightening-Radiance/dp/B00YXTNFJC/ref=zg_bs_g_boost_d_sccl_19/260-6490592-1592110?psc=1', '/product-reviews/B0C73B4D1W/ref=zg_bs_g_boost_d_sccl_4_cr/260-6490592-1592110', '/product-reviews/B07548J9WC/ref=zg_bs_g_boost_d_sccl_2_cr/260-6490592-1592110', '/b/?_encoding=UTF8&ie=UTF8&node=10894243031&ref_=sv_lpdin_4', '/Audible-Books-and-Originals/b/?ie=UTF8&node=17941593031&ref_=nav_cs_audible', '/FIXDERMA-Sunscreen-30-Protection-Resistant/dp/B089RJ6Z3K/ref=zg_bs_g_boost_d_sccl_5/260-6490592-1592110?psc=1', '/Pet-Supplies/b/?ie=UTF8&node=2454181031&ref_=nav_cs_pets', '/product-reviews/B082W9S7LM/ref=zg_bs_g_boost_d_sccl_21_cr/260-6490592-1592110', '/customer-preferences/edit?ie=UTF8&preferencesReturnUrl=%2Fgp%2Fbestsellers%2Fboost%2Fref%3Dzg_bs_nav_boost_0&ref_=footer_lang', '/gp/bestsellers/boost/10894277031/ref=zg_bs_nav_boost_1', '/Baby/b/?ie=UTF8&node=1571274031&ref_=nav_cs_baby', '/hz5/yourmembershipsandsubscriptions?ref_=nav_AccountFlyout_digital_subscriptions', '/b/?_encoding=UTF8&ie=UTF8&node=10894234031&ref_=sv_lpdin_3', '/gp/bestsellers/boost/10894286031/ref=zg_bs_nav_boost_1', '/auto-deliveries/landing?ref_=nav_cs_sns', '/AmbiTech-PHX-01-Thermometer-Operation-Underarm/dp/B082W9S7LM/ref=zg_bs_g_boost_d_sccl_21/260-6490592-1592110?psc=1', '/Vooki-Ecofriendly-Descaler-Remover-Bathroom/dp/B09XVJPQKZ/ref=zg_bs_g_boost_d_sccl_16/260-6490592-1592110?psc=1', '/gp/new-releases/?ref_=nav_cs_newreleases', '/mobile-phones/b/?ie=UTF8&node=1389401031&ref_=nav_cs_mobiles', '/wishlist/universal?ref_=nav_ListFlyout_gno_listpop_uwl', '/product-reviews/B07YB9QSRM/ref=zg_bs_g_boost_d_sccl_28_cr/260-6490592-1592110', '/Sirona-Approved-Reusable-Menstrual-Silicone/dp/B07548J9WC/ref=zg_bs_g_boost_d_sccl_2/260-6490592-1592110?psc=1', '/gp/most-wished-for/boost/ref=zg_bs_tab_t_boost_mw', '/product-reviews/B07H5PVCH7/ref=zg_bs_g_boost_d_sccl_12_cr/260-6490592-1592110', '/electronics/b/?ie=UTF8&node=976419031&ref_=nav_cs_electronics', '/gp/yourstore?ref_=nav_AccountFlyout_recs', '/gp/help/customer/display.html?nodeId=200507590&ref_=nav_cs_help', '/gp/help/customer/display.html?nodeId=202075050&ref_=footer_iba', '/product-reviews/B07GBZ1KV8/ref=zg_bs_g_boost_d_sccl_6_cr/260-6490592-1592110', '/product-reviews/B08YRFZGQF/ref=zg_bs_g_boost_d_sccl_10_cr/260-6490592-1592110', '/b/?_encoding=UTF8&ie=UTF8&node=10894224031&ref_=sv_lpdin_1', '/gp/css/homepage.html?ref_=nav_AccountFlyout_ya', '/gp/bestsellers/boost/10894313031/ref=zg_bs_nav_boost_1', '/gp/history', '/now?ref=footer_amznow', '/gp/bestsellers/boost/ref=zg_bs_pg_2_boost?ie=UTF8&pg=2', '/gp/css/order-history?ref_=nav_orders_first', '/b/?node=2838698031&ld=AZINSOAYAFlyout&ref_=nav_AccountFlyout_sell', '/product-reviews/B01LZ3TGL2/ref=zg_bs_g_boost_d_sccl_25_cr/260-6490592-1592110', '/product-reviews/B089RJ6Z3K/ref=zg_bs_g_boost_d_sccl_5_cr/260-6490592-1592110', '/gp/video/ssoredirect/?ie=UTF8&pvp=%2F%3Fref_%3Ddvm_crs_in_s_gw_swm_dk_np_captmill&ref_=nav_swm_dvm_crs_in_s_gw_swm_dk_np_captmill&pf_rd_p=ac883eb0-e58e-4b40-8ccb-9978a4930f2d&pf_rd_s=nav-sitewide-msg&pf_rd_t=4201&pf_rd_i=navbar-4201&pf_rd_m=A21TJRUUN4KGV&pf_rd_r=TZG50ZM4WY7FPEE6KMPH', '/gp/browse.html?node=6967393031&ref_=footer_mobapp', '/b/32702023031?node=32702023031&ld=AZINSOANavDesktop_T3&ref_=nav_cs_sell_T3', '/customer-preferences/edit?ie=UTF8&preferencesReturnUrl=%2Fgp%2Fbestsellers%2Fboost%2Fref%3Dzg_bs_nav_boost_0&ref_=topnav_lang', '/gp/redirect.html?location=https%3A%2F%2Fwww.primevideo.com%2F%3Fref_%3D_apv&source=nav_linktree&token=13D4F90D28CD96790B94E6091246BB1B2AE9FA05', '/Vooki-Ecofriendly-Stains-Descaler-Remover/dp/B0B4GBRRR3/ref=zg_bs_g_boost_d_sccl_9/260-6490592-1592110?psc=1', '/hz/wishlist/ls?triggerElementID=createList&ref_=nav_ListFlyout_navFlyout_createList_lv_redirect', '/ref=footer_logo', '/SOFTSPUN-Microfiber-Detailing-Polishing-Muticolor/dp/B01LZ3TGL2/ref=zg_bs_g_boost_d_sccl_25/260-6490592-1592110?psc=1', '/PeeBuddy-Flushable-Disposable-Contact-Unhygienic/dp/B07MRNY1QQ/ref=zg_bs_g_boost_d_sccl_17/260-6490592-1592110?psc=1', '/gp/bestsellers/boost/10894234031/ref=zg_bs_nav_boost_1', '/gp/most-gifted/boost/ref=zg_bs_tab_t_boost_mg', '/gp/bestsellers/boost/10894295031/ref=zg_bs_nav_boost_1', '/Home-Improvement/b/?ie=UTF8&node=4286640031&ref_=nav_cs_hi', '/gift-card-store/b/?ie=UTF8&node=3704982031&ref_=nav_cs_gc', '/Sirona-Disposable-Underarm-Peel-off-Unpleasant/dp/B01BKBOGDY/ref=zg_bs_g_boost_d_sccl_8/260-6490592-1592110?psc=1', '/product-reviews/B00YXTNFJC/ref=zg_bs_g_boost_d_sccl_19_cr/260-6490592-1592110', '/gp/help/customer/display.html?nodeId=GDFU3JS5AL6SYHRD&ref_=footer_covid', '/Finishing-Non-Greasy-Non-Sticky-Must-Have-Accessory/dp/B0BSLJV9M8/ref=zg_bs_g_boost_d_sccl_22/260-6490592-1592110?psc=1', '/Evair-Freshener-Essential-Fragrance-Diffuser/dp/B0BLH1SBPK/ref=zg_bs_g_boost_d_sccl_14/260-6490592-1592110?psc=1', '/music/prime?ref=footer_apm', '/Indigenous-Unprocessed-Unfiltered-Unpasteurized-Disorders/dp/B07H5PVCH7/ref=zg_bs_g_boost_d_sccl_12/260-6490592-1592110?psc=1', '/ref=nav_logo', '/gp/css/returns/homepage.html?ref_=footer_hy_f_4', '/Whats-Up-Wellness-Buckthorn-Grapeseed/dp/B08YRFZGQF/ref=zg_bs_g_boost_d_sccl_10/260-6490592-1592110?psc=1', '/gp/bestsellers/boost/10894268031/ref=zg_bs_nav_boost_1', '/Home-Kitchen/b/?ie=UTF8&node=976442031&ref_=nav_cs_home', '/product-reviews/B07HKW1YP1/ref=zg_bs_g_boost_d_sccl_24_cr/260-6490592-1592110', '/b/?_encoding=UTF8&node=10894259031&ref_=sv_lpdin_5#container', '/product-reviews/B01NAZVN8M/ref=zg_bs_g_boost_d_sccl_29_cr/260-6490592-1592110', '/video-games/b/?ie=UTF8&node=976460031&ref_=nav_cs_video_games', '/gp/sva/dashboard?ref_=nav_cs_apay', '/gp/bestsellers/boost/ref=zg_bs_pg_1_boost?ie=UTF8&pg=1', '/product-reviews/B092ZXX7XP/ref=zg_bs_g_boost_d_sccl_11_cr/260-6490592-1592110', '/b/?node=6637738031&ref_=nav_cs_amazonbasics', '/product-reviews/B0BLH1SBPK/ref=zg_bs_g_boost_d_sccl_14_cr/260-6490592-1592110', '/Phool-Mosquito-Repellent-Incense-Fragrances/dp/B08CMWTNFL/ref=zg_bs_g_boost_d_sccl_20/260-6490592-1592110?psc=1', '/Storescent-Reversible-Stuffed-Animal-Plushie/dp/B0C1SSMFVY/ref=zg_bs_g_boost_d_sccl_15/260-6490592-1592110?psc=1', '/gp/bestsellers/boost/10894243031/ref=zg_bs_nav_boost_1', '/Sirona-Blink-Glow-Razor-Women/dp/B08SQ6S5HF/ref=zg_bs_g_boost_d_sccl_26/260-6490592-1592110?psc=1', '/SOFTSPUN-Microfiber-Cleaning-Detailing-Polishing/dp/B077BFH786/ref=zg_bs_g_boost_d_sccl_1/260-6490592-1592110?psc=1', '/Sports/b/?ie=UTF8&node=1984443031&ref_=nav_cs_sports', '/beauty/b/?ie=UTF8&node=1355016031&ref_=nav_cs_beauty', '/product-reviews/B0BSLJV9M8/ref=zg_bs_g_boost_d_sccl_22_cr/260-6490592-1592110', '/showroom?ref_=nav_ListFlyout_srm_your_desk_wl_in', '/b/?node=2838698031&ld=AZINSOANavDesktopFooter_C&ref_=nav_footer_sell_C', '/product-reviews/B0C1SSMFVY/ref=zg_bs_g_boost_d_sccl_15_cr/260-6490592-1592110', '/gp/help/customer/display.html?nodeId=200507590&ref_=footer_gw_m_b_he', '/Gourmet-Specialty-Foods/b/?ie=UTF8&node=2454178031&ref_=nav_cs_grocery', '/product-reviews/B08B1TVYT1/ref=zg_bs_g_boost_d_sccl_23_cr/260-6490592-1592110', '/gp/bestsellers/boost/17161295031/ref=zg_bs_nav_boost_1', '/gp/bestsellers/?ref_=nav_cs_bestsellers', '/product-reviews/B09DYM1L2M/ref=zg_bs_g_boost_d_sccl_13_cr/260-6490592-1592110', '/gp/bestsellers/boost/10894230031/ref=zg_bs_nav_boost_1', '/Ballistic-Manscaping-Grooming-Waterproof-Cordless/dp/B0BD8RXV99/ref=zg_bs_g_boost_d_sccl_3/260-6490592-1592110?psc=1', '/gp/browse.html?node=6648217031&ref_=nav_cs_fashion', '/prime?ref_=nav_cs_primelink_nonmember', '/Frido-Trimmable-Insoles-Replacing-Existing/dp/B09RV5JVMM/ref=zg_bs_g_boost_d_sccl_30/260-6490592-1592110?psc=1', '/gp/browse.html?node=21102587031&ref_=nav_ya_flyout_b2b_reg_bottom', '/hz/wishlist/ls?requiresSignIn=1&ref_=nav_AccountFlyout_wl', '/gp/bestsellers/boost/10894224031/ref=zg_bs_nav_boost_1', '/gp/bestsellers/ref=zg_bs_unv_boost_0_1', '/Toys-Games/b/?ie=UTF8&node=1350380031&ref_=nav_cs_toys', '/product-reviews/B0BD8RXV99/ref=zg_bs_g_boost_d_sccl_3_cr/260-6490592-1592110', '/product-reviews/B099F4QBKR/ref=zg_bs_g_boost_d_sccl_18_cr/260-6490592-1592110', '/Books/b/?ie=UTF8&node=976389031&ref_=nav_cs_books', '/product-reviews/B09RV5JVMM/ref=zg_bs_g_boost_d_sccl_30_cr/260-6490592-1592110', '/Sirona-Sanitary-Napkin-Diapers-Disposal/dp/B01NAZVN8M/ref=zg_bs_g_boost_d_sccl_29/260-6490592-1592110?psc=1', '/baby-reg/homepage?ref_=nav_ListFlyout_gno_listpop_br', '/hz/mycd/myx?pageType=content&ref_=nav_AccountFlyout_myk', '/business?ref=footer_aingw', '/gp/css/homepage.html?ref_=footer_ya', '/Honey-Twigs-Ingredients-concentrate-Immunity/dp/B099F4QBKR/ref=zg_bs_g_boost_d_sccl_18/260-6490592-1592110?psc=1', '/health-and-personal-care/b/?ie=UTF8&node=1350384031&ref_=nav_cs_hpc', '/Be-Bodywise-Supplements-Strawberry-Multivitamins/dp/B092ZXX7XP/ref=zg_bs_g_boost_d_sccl_11/260-6490592-1592110?psc=1', '/gp/bestsellers/boost/14091152031/ref=zg_bs_nav_boost_1', '/Sirona-Reusable-Blink-Razor-Women/dp/B09DYM1L2M/ref=zg_bs_g_boost_d_sccl_13/260-6490592-1592110?psc=1', '/product-reviews/B09XVJPQKZ/ref=zg_bs_g_boost_d_sccl_16_cr/260-6490592-1592110', '/gp/help/customer/display.html?nodeId=201083470&ref_=footer_swc', '/product-reviews/B0BBS6YFZR/ref=zg_bs_g_boost_d_sccl_7_cr/260-6490592-1592110', '/DesiDiya%C2%AE-Astronaut-Galaxy-Projector-Control/dp/B0C73B4D1W/ref=zg_bs_g_boost_d_sccl_4/260-6490592-1592110?psc=1', '/b/?_encoding=UTF8&ie=UTF8&node=10894230031&ref_=sv_lpdin_2', '/minitv?ref_=nav_avod_desktop_topnav', '/Control-White-Compressor-Complete-Nebulizer/dp/B07YB9QSRM/ref=zg_bs_g_boost_d_sccl_28/260-6490592-1592110?psc=1', '/product-reviews/B01BKBOGDY/ref=zg_bs_g_boost_d_sccl_8_cr/260-6490592-1592110']\n"
     ]
    }
   ],
   "source": [
    "new_links = [x for x in html_obj.links if x.startswith(\"/\")]\n",
    "print(new_links)\n",
    "new_links=[x for x in new_links if \"product-reviews/\" not in x]"
   ]
  },
  {
   "cell_type": "code",
   "execution_count": 9,
   "id": "6516ca9e",
   "metadata": {},
   "outputs": [
    {
     "name": "stdout",
     "output_type": "stream",
     "text": [
      "['https://www.amazon.in/gp/help/customer/display.html?nodeId=200545940&ref_=footer_cou', 'https://www.amazon.in/discover/?ref_=nav_ListFlyout_sbl', 'https://www.amazon.in/SOFTSPUN-Microfiber-Cleaning-Cloth-340GSM/dp/B07GBZ1KV8/ref=zg_bs_g_boost_d_sccl_6/260-6490592-1592110?psc=1', 'https://www.amazon.in/gp/css/order-history?ref_=nav_AccountFlyout_orders', 'https://www.amazon.in/deals?ref_=nav_cs_gb', 'https://www.amazon.in/amazon-coupons/b/?_encoding=UTF8&node=10465704031&ref_=nav_cs_coupons', 'https://www.amazon.in/Honey-Twigs-Tasterz-Combo-Pack/dp/B0BBS6YFZR/ref=zg_bs_g_boost_d_sccl_7/260-6490592-1592110?psc=1', 'https://www.amazon.in/ASGARD-Melt-Blown-Fabric-Disposable-Unisex/dp/B08B1TVYT1/ref=zg_bs_g_boost_d_sccl_23/260-6490592-1592110?psc=1', 'https://www.amazon.in/SOFTSPUN-Microfiber-Cleaning-Multi-Color-Absorbent/dp/B081L7PDR2/ref=zg_bs_g_boost_d_sccl_27/260-6490592-1592110?psc=1', 'https://www.amazon.in/computers-and-accessories/b/?ie=UTF8&node=976392031&ref_=nav_cs_pc', 'https://www.amazon.in/auto-deliveries?ref_=nav_AccountFlyout_sns', 'https://www.amazon.in/gp/help/customer/display.html?nodeId=200534380&ref_=footer_privacy', 'https://www.amazon.in/amazon-launchpad/b/?ie=UTF8&node=10894223031&ref_=topnav_storetab_lpdin', 'https://www.amazon.in/fresh?ref_=nav_cs_fresh', 'https://www.amazon.in/Kindle-eBooks/b/?ie=UTF8&node=1634753031&ref_=nav_cs_kindle_books', 'https://www.amazon.in/gp/bestsellers/boost/10894251031/ref=zg_bs_nav_boost_1', 'https://www.amazon.in/gp/primecentral?ref_=nav_AccountFlyout_prime', 'https://www.amazon.in/gp/movers-and-shakers/boost/ref=zg_bs_tab_t_boost_bsms', 'https://www.amazon.in/gcx/-/gfhz/?ref_=nav_cs_giftfinder', 'https://www.amazon.in/Car-Motorbike-Store/b/?ie=UTF8&node=4772060031&ref_=nav_cs_automotive', 'https://www.amazon.in/Hykes-Compression-Support-Running-Cycling/dp/B07HKW1YP1/ref=zg_bs_g_boost_d_sccl_24/260-6490592-1592110?psc=1', 'https://www.amazon.in/Auravedic-Kumkumadi-Saffron-Brightening-Radiance/dp/B00YXTNFJC/ref=zg_bs_g_boost_d_sccl_19/260-6490592-1592110?psc=1', 'https://www.amazon.in/b/?_encoding=UTF8&ie=UTF8&node=10894243031&ref_=sv_lpdin_4', 'https://www.amazon.in/Audible-Books-and-Originals/b/?ie=UTF8&node=17941593031&ref_=nav_cs_audible', 'https://www.amazon.in/FIXDERMA-Sunscreen-30-Protection-Resistant/dp/B089RJ6Z3K/ref=zg_bs_g_boost_d_sccl_5/260-6490592-1592110?psc=1', 'https://www.amazon.in/Pet-Supplies/b/?ie=UTF8&node=2454181031&ref_=nav_cs_pets', 'https://www.amazon.in/customer-preferences/edit?ie=UTF8&preferencesReturnUrl=%2Fgp%2Fbestsellers%2Fboost%2Fref%3Dzg_bs_nav_boost_0&ref_=footer_lang', 'https://www.amazon.in/gp/bestsellers/boost/10894277031/ref=zg_bs_nav_boost_1', 'https://www.amazon.in/Baby/b/?ie=UTF8&node=1571274031&ref_=nav_cs_baby', 'https://www.amazon.in/hz5/yourmembershipsandsubscriptions?ref_=nav_AccountFlyout_digital_subscriptions', 'https://www.amazon.in/b/?_encoding=UTF8&ie=UTF8&node=10894234031&ref_=sv_lpdin_3', 'https://www.amazon.in/gp/bestsellers/boost/10894286031/ref=zg_bs_nav_boost_1', 'https://www.amazon.in/auto-deliveries/landing?ref_=nav_cs_sns', 'https://www.amazon.in/AmbiTech-PHX-01-Thermometer-Operation-Underarm/dp/B082W9S7LM/ref=zg_bs_g_boost_d_sccl_21/260-6490592-1592110?psc=1', 'https://www.amazon.in/Vooki-Ecofriendly-Descaler-Remover-Bathroom/dp/B09XVJPQKZ/ref=zg_bs_g_boost_d_sccl_16/260-6490592-1592110?psc=1', 'https://www.amazon.in/gp/new-releases/?ref_=nav_cs_newreleases', 'https://www.amazon.in/mobile-phones/b/?ie=UTF8&node=1389401031&ref_=nav_cs_mobiles', 'https://www.amazon.in/wishlist/universal?ref_=nav_ListFlyout_gno_listpop_uwl', 'https://www.amazon.in/Sirona-Approved-Reusable-Menstrual-Silicone/dp/B07548J9WC/ref=zg_bs_g_boost_d_sccl_2/260-6490592-1592110?psc=1', 'https://www.amazon.in/gp/most-wished-for/boost/ref=zg_bs_tab_t_boost_mw', 'https://www.amazon.in/electronics/b/?ie=UTF8&node=976419031&ref_=nav_cs_electronics', 'https://www.amazon.in/gp/yourstore?ref_=nav_AccountFlyout_recs', 'https://www.amazon.in/gp/help/customer/display.html?nodeId=200507590&ref_=nav_cs_help', 'https://www.amazon.in/gp/help/customer/display.html?nodeId=202075050&ref_=footer_iba', 'https://www.amazon.in/b/?_encoding=UTF8&ie=UTF8&node=10894224031&ref_=sv_lpdin_1', 'https://www.amazon.in/gp/css/homepage.html?ref_=nav_AccountFlyout_ya', 'https://www.amazon.in/gp/bestsellers/boost/10894313031/ref=zg_bs_nav_boost_1', 'https://www.amazon.in/gp/history', 'https://www.amazon.in/now?ref=footer_amznow', 'https://www.amazon.in/gp/bestsellers/boost/ref=zg_bs_pg_2_boost?ie=UTF8&pg=2', 'https://www.amazon.in/gp/css/order-history?ref_=nav_orders_first', 'https://www.amazon.in/b/?node=2838698031&ld=AZINSOAYAFlyout&ref_=nav_AccountFlyout_sell', 'https://www.amazon.in/gp/video/ssoredirect/?ie=UTF8&pvp=%2F%3Fref_%3Ddvm_crs_in_s_gw_swm_dk_np_captmill&ref_=nav_swm_dvm_crs_in_s_gw_swm_dk_np_captmill&pf_rd_p=ac883eb0-e58e-4b40-8ccb-9978a4930f2d&pf_rd_s=nav-sitewide-msg&pf_rd_t=4201&pf_rd_i=navbar-4201&pf_rd_m=A21TJRUUN4KGV&pf_rd_r=TZG50ZM4WY7FPEE6KMPH', 'https://www.amazon.in/gp/browse.html?node=6967393031&ref_=footer_mobapp', 'https://www.amazon.in/b/32702023031?node=32702023031&ld=AZINSOANavDesktop_T3&ref_=nav_cs_sell_T3', 'https://www.amazon.in/customer-preferences/edit?ie=UTF8&preferencesReturnUrl=%2Fgp%2Fbestsellers%2Fboost%2Fref%3Dzg_bs_nav_boost_0&ref_=topnav_lang', 'https://www.amazon.in/gp/redirect.html?location=https%3A%2F%2Fwww.primevideo.com%2F%3Fref_%3D_apv&source=nav_linktree&token=13D4F90D28CD96790B94E6091246BB1B2AE9FA05', 'https://www.amazon.in/Vooki-Ecofriendly-Stains-Descaler-Remover/dp/B0B4GBRRR3/ref=zg_bs_g_boost_d_sccl_9/260-6490592-1592110?psc=1', 'https://www.amazon.in/hz/wishlist/ls?triggerElementID=createList&ref_=nav_ListFlyout_navFlyout_createList_lv_redirect', 'https://www.amazon.in/ref=footer_logo', 'https://www.amazon.in/SOFTSPUN-Microfiber-Detailing-Polishing-Muticolor/dp/B01LZ3TGL2/ref=zg_bs_g_boost_d_sccl_25/260-6490592-1592110?psc=1', 'https://www.amazon.in/PeeBuddy-Flushable-Disposable-Contact-Unhygienic/dp/B07MRNY1QQ/ref=zg_bs_g_boost_d_sccl_17/260-6490592-1592110?psc=1', 'https://www.amazon.in/gp/bestsellers/boost/10894234031/ref=zg_bs_nav_boost_1', 'https://www.amazon.in/gp/most-gifted/boost/ref=zg_bs_tab_t_boost_mg', 'https://www.amazon.in/gp/bestsellers/boost/10894295031/ref=zg_bs_nav_boost_1', 'https://www.amazon.in/Home-Improvement/b/?ie=UTF8&node=4286640031&ref_=nav_cs_hi', 'https://www.amazon.in/gift-card-store/b/?ie=UTF8&node=3704982031&ref_=nav_cs_gc', 'https://www.amazon.in/Sirona-Disposable-Underarm-Peel-off-Unpleasant/dp/B01BKBOGDY/ref=zg_bs_g_boost_d_sccl_8/260-6490592-1592110?psc=1', 'https://www.amazon.in/gp/help/customer/display.html?nodeId=GDFU3JS5AL6SYHRD&ref_=footer_covid', 'https://www.amazon.in/Finishing-Non-Greasy-Non-Sticky-Must-Have-Accessory/dp/B0BSLJV9M8/ref=zg_bs_g_boost_d_sccl_22/260-6490592-1592110?psc=1', 'https://www.amazon.in/Evair-Freshener-Essential-Fragrance-Diffuser/dp/B0BLH1SBPK/ref=zg_bs_g_boost_d_sccl_14/260-6490592-1592110?psc=1', 'https://www.amazon.in/music/prime?ref=footer_apm', 'https://www.amazon.in/Indigenous-Unprocessed-Unfiltered-Unpasteurized-Disorders/dp/B07H5PVCH7/ref=zg_bs_g_boost_d_sccl_12/260-6490592-1592110?psc=1', 'https://www.amazon.in/ref=nav_logo', 'https://www.amazon.in/gp/css/returns/homepage.html?ref_=footer_hy_f_4', 'https://www.amazon.in/Whats-Up-Wellness-Buckthorn-Grapeseed/dp/B08YRFZGQF/ref=zg_bs_g_boost_d_sccl_10/260-6490592-1592110?psc=1', 'https://www.amazon.in/gp/bestsellers/boost/10894268031/ref=zg_bs_nav_boost_1', 'https://www.amazon.in/Home-Kitchen/b/?ie=UTF8&node=976442031&ref_=nav_cs_home', 'https://www.amazon.in/b/?_encoding=UTF8&node=10894259031&ref_=sv_lpdin_5#container', 'https://www.amazon.in/video-games/b/?ie=UTF8&node=976460031&ref_=nav_cs_video_games', 'https://www.amazon.in/gp/sva/dashboard?ref_=nav_cs_apay', 'https://www.amazon.in/gp/bestsellers/boost/ref=zg_bs_pg_1_boost?ie=UTF8&pg=1', 'https://www.amazon.in/b/?node=6637738031&ref_=nav_cs_amazonbasics', 'https://www.amazon.in/Phool-Mosquito-Repellent-Incense-Fragrances/dp/B08CMWTNFL/ref=zg_bs_g_boost_d_sccl_20/260-6490592-1592110?psc=1', 'https://www.amazon.in/Storescent-Reversible-Stuffed-Animal-Plushie/dp/B0C1SSMFVY/ref=zg_bs_g_boost_d_sccl_15/260-6490592-1592110?psc=1', 'https://www.amazon.in/gp/bestsellers/boost/10894243031/ref=zg_bs_nav_boost_1', 'https://www.amazon.in/Sirona-Blink-Glow-Razor-Women/dp/B08SQ6S5HF/ref=zg_bs_g_boost_d_sccl_26/260-6490592-1592110?psc=1', 'https://www.amazon.in/SOFTSPUN-Microfiber-Cleaning-Detailing-Polishing/dp/B077BFH786/ref=zg_bs_g_boost_d_sccl_1/260-6490592-1592110?psc=1', 'https://www.amazon.in/Sports/b/?ie=UTF8&node=1984443031&ref_=nav_cs_sports', 'https://www.amazon.in/beauty/b/?ie=UTF8&node=1355016031&ref_=nav_cs_beauty', 'https://www.amazon.in/showroom?ref_=nav_ListFlyout_srm_your_desk_wl_in', 'https://www.amazon.in/b/?node=2838698031&ld=AZINSOANavDesktopFooter_C&ref_=nav_footer_sell_C', 'https://www.amazon.in/gp/help/customer/display.html?nodeId=200507590&ref_=footer_gw_m_b_he', 'https://www.amazon.in/Gourmet-Specialty-Foods/b/?ie=UTF8&node=2454178031&ref_=nav_cs_grocery', 'https://www.amazon.in/gp/bestsellers/boost/17161295031/ref=zg_bs_nav_boost_1', 'https://www.amazon.in/gp/bestsellers/?ref_=nav_cs_bestsellers', 'https://www.amazon.in/gp/bestsellers/boost/10894230031/ref=zg_bs_nav_boost_1', 'https://www.amazon.in/Ballistic-Manscaping-Grooming-Waterproof-Cordless/dp/B0BD8RXV99/ref=zg_bs_g_boost_d_sccl_3/260-6490592-1592110?psc=1', 'https://www.amazon.in/gp/browse.html?node=6648217031&ref_=nav_cs_fashion', 'https://www.amazon.in/prime?ref_=nav_cs_primelink_nonmember', 'https://www.amazon.in/Frido-Trimmable-Insoles-Replacing-Existing/dp/B09RV5JVMM/ref=zg_bs_g_boost_d_sccl_30/260-6490592-1592110?psc=1', 'https://www.amazon.in/gp/browse.html?node=21102587031&ref_=nav_ya_flyout_b2b_reg_bottom', 'https://www.amazon.in/hz/wishlist/ls?requiresSignIn=1&ref_=nav_AccountFlyout_wl', 'https://www.amazon.in/gp/bestsellers/boost/10894224031/ref=zg_bs_nav_boost_1', 'https://www.amazon.in/gp/bestsellers/ref=zg_bs_unv_boost_0_1', 'https://www.amazon.in/Toys-Games/b/?ie=UTF8&node=1350380031&ref_=nav_cs_toys', 'https://www.amazon.in/Books/b/?ie=UTF8&node=976389031&ref_=nav_cs_books', 'https://www.amazon.in/Sirona-Sanitary-Napkin-Diapers-Disposal/dp/B01NAZVN8M/ref=zg_bs_g_boost_d_sccl_29/260-6490592-1592110?psc=1', 'https://www.amazon.in/baby-reg/homepage?ref_=nav_ListFlyout_gno_listpop_br', 'https://www.amazon.in/hz/mycd/myx?pageType=content&ref_=nav_AccountFlyout_myk', 'https://www.amazon.in/business?ref=footer_aingw', 'https://www.amazon.in/gp/css/homepage.html?ref_=footer_ya', 'https://www.amazon.in/Honey-Twigs-Ingredients-concentrate-Immunity/dp/B099F4QBKR/ref=zg_bs_g_boost_d_sccl_18/260-6490592-1592110?psc=1', 'https://www.amazon.in/health-and-personal-care/b/?ie=UTF8&node=1350384031&ref_=nav_cs_hpc', 'https://www.amazon.in/Be-Bodywise-Supplements-Strawberry-Multivitamins/dp/B092ZXX7XP/ref=zg_bs_g_boost_d_sccl_11/260-6490592-1592110?psc=1', 'https://www.amazon.in/gp/bestsellers/boost/14091152031/ref=zg_bs_nav_boost_1', 'https://www.amazon.in/Sirona-Reusable-Blink-Razor-Women/dp/B09DYM1L2M/ref=zg_bs_g_boost_d_sccl_13/260-6490592-1592110?psc=1', 'https://www.amazon.in/gp/help/customer/display.html?nodeId=201083470&ref_=footer_swc', 'https://www.amazon.in/DesiDiya%C2%AE-Astronaut-Galaxy-Projector-Control/dp/B0C73B4D1W/ref=zg_bs_g_boost_d_sccl_4/260-6490592-1592110?psc=1', 'https://www.amazon.in/b/?_encoding=UTF8&ie=UTF8&node=10894230031&ref_=sv_lpdin_2', 'https://www.amazon.in/minitv?ref_=nav_avod_desktop_topnav', 'https://www.amazon.in/Control-White-Compressor-Complete-Nebulizer/dp/B07YB9QSRM/ref=zg_bs_g_boost_d_sccl_28/260-6490592-1592110?psc=1']\n"
     ]
    }
   ],
   "source": [
    "page_links = [f\"https://www.amazon.in{x}\" for x in new_links]\n",
    "print(page_links)"
   ]
  },
  {
   "cell_type": "code",
   "execution_count": 10,
   "id": "9a2faec8",
   "metadata": {},
   "outputs": [],
   "source": [
    "def scrape_product_page(\n",
    "    url, title_lookup=\"#productTitle\", price_lookup=\".a-price-whole\"\n",
    "):\n",
    "    driver.get(url)\n",
    "    time.sleep(1.2)\n",
    "    body_el = driver.find_element(by=\"tag name\", value=\"body\")\n",
    "    html_str = body_el.get_attribute(\"innerHTML\")\n",
    "    html_obj = HTML(html=html_str)\n",
    "    product_title = html_obj.find(title_lookup, first=True).text\n",
    "    product_price = html_obj.find(price_lookup, first=True).text\n",
    "    print(product_title.split(\"|\")[0].strip(\" \"))\n",
    "    print(\n",
    "        product_price,\n",
    "    )\n",
    "    return product_title, product_price"
   ]
  },
  {
   "cell_type": "code",
   "execution_count": 11,
   "id": "24b6f689",
   "metadata": {},
   "outputs": [
    {
     "data": {
      "text/plain": [
       "'https://www.amazon.in/gp/help/customer/display.html?nodeId=200545940&ref_=footer_cou'"
      ]
     },
     "execution_count": 11,
     "metadata": {},
     "output_type": "execute_result"
    }
   ],
   "source": [
    "first_product_link = page_links[0]\n",
    "first_product_link"
   ]
  },
  {
   "cell_type": "code",
   "execution_count": 12,
   "id": "fd999aaf",
   "metadata": {},
   "outputs": [
    {
     "name": "stdout",
     "output_type": "stream",
     "text": [
      "SOFTSPUN Microfiber Cleaning Cloths, 4pcs 40x40cms 340GSM Multi-Colour! Highly Absorbent Lint and Streak Free Multi -Purpose Wash Cloth for Kitchen Window Stainless Steel Silverware.\n",
      "275.\n",
      "https://www.amazon.in/SOFTSPUN-Microfiber-Cleaning-Cloth-340GSM/dp/B07GBZ1KV8/ref=zg_bs_g_boost_d_sccl_6/260-6490592-1592110?psc=1\n",
      "SOFTSPUN Microfiber Cleaning Cloths, 4pcs 40x40cms 340GSM Multi-Colour! Highly Absorbent Lint and Streak Free Multi -Purpose Wash Cloth for Kitchen Window Stainless Steel Silverware. 275.\n",
      "------\n",
      "Honey Twigs Tasterz Honey Combo Pack - Himalayan Multiflora, Natural Litchi, Cinnamon, Vanilla, Lemon and Turmeric Infused Honey : 3 Sachets x 6 flavors\n",
      "400.\n",
      "https://www.amazon.in/Honey-Twigs-Tasterz-Combo-Pack/dp/B0BBS6YFZR/ref=zg_bs_g_boost_d_sccl_7/260-6490592-1592110?psc=1\n",
      "Honey Twigs Tasterz Honey Combo Pack - Himalayan Multiflora, Natural Litchi, Cinnamon, Vanilla, Lemon and Turmeric Infused Honey : 3 Sachets x 6 flavors | 100% Natural & Traceable Source | No Added Sugar 400.\n",
      "------\n",
      "ASGARD Melt-Blown Fabric Disposable Face Mask with Nose Clip (Blue, Pack of 100) for Unisex\n",
      "375.\n",
      "https://www.amazon.in/ASGARD-Melt-Blown-Fabric-Disposable-Unisex/dp/B08B1TVYT1/ref=zg_bs_g_boost_d_sccl_23/260-6490592-1592110?psc=1\n",
      "ASGARD Melt-Blown Fabric Disposable Face Mask with Nose Clip (Blue, Pack of 100) for Unisex 375.\n",
      "------\n",
      "SOFTSPUN Microfiber Basic Cleaning Cloths, 8 pcs 40x40cms 280GSM Multicolor! Highly Absorbent Lint and Streak Free Multipurpose Wash Cloth for Kitchen Car Window Stainless Steel Silverware.\n",
      "375.\n",
      "https://www.amazon.in/SOFTSPUN-Microfiber-Cleaning-Multi-Color-Absorbent/dp/B081L7PDR2/ref=zg_bs_g_boost_d_sccl_27/260-6490592-1592110?psc=1\n",
      "SOFTSPUN Microfiber Basic Cleaning Cloths, 8 pcs 40x40cms 280GSM Multicolor! Highly Absorbent Lint and Streak Free Multipurpose Wash Cloth for Kitchen Car Window Stainless Steel Silverware. 375.\n",
      "------\n",
      "Hykes Knee cap Compression Support for Gym Running Cycling Sports Jogging Workout Pain Relief (Material: Nylon & Spandex, Color:Green, Size:Large)\n",
      "699.\n",
      "https://www.amazon.in/Hykes-Compression-Support-Running-Cycling/dp/B07HKW1YP1/ref=zg_bs_g_boost_d_sccl_24/260-6490592-1592110?psc=1\n",
      "Hykes Knee cap Compression Support for Gym Running Cycling Sports Jogging Workout Pain Relief (Material: Nylon & Spandex, Color:Green, Size:Large) 699.\n",
      "------\n",
      "Auravedic Kumkumadi Oil, 100 Ml. Kumkumadi Face oil for Glowing Skin. Kumkumadi Tailam from kerala.\n",
      "356.\n",
      "https://www.amazon.in/Auravedic-Kumkumadi-Saffron-Brightening-Radiance/dp/B00YXTNFJC/ref=zg_bs_g_boost_d_sccl_19/260-6490592-1592110?psc=1\n",
      "Auravedic Kumkumadi Oil, 100 Ml. Kumkumadi Face oil for Glowing Skin. Kumkumadi Tailam from kerala. 356.\n",
      "------\n",
      "FIXDERMA Shadow Sunscreen Spf 30+ Gel, Broad Spectrum Sunscreen For Oily Skin, Uva & Uvb Protection For Unisex, Body & Face, Non Greasy & Water Resistant, 40g\n",
      "186.\n",
      "https://www.amazon.in/FIXDERMA-Sunscreen-30-Protection-Resistant/dp/B089RJ6Z3K/ref=zg_bs_g_boost_d_sccl_5/260-6490592-1592110?psc=1\n",
      "FIXDERMA Shadow Sunscreen Spf 30+ Gel, Broad Spectrum Sunscreen For Oily Skin, Uva & Uvb Protection For Unisex, Body & Face, Non Greasy & Water Resistant, 40g 186.\n",
      "------\n"
     ]
    }
   ],
   "source": [
    "for link in page_links:\n",
    "    title , price=(None, None)\n",
    "    try:\n",
    "        title, price = scrape_product_page(link)\n",
    "    except:\n",
    "        pass\n",
    "    if title != None and price != None:\n",
    "        print(link)\n",
    "        print(title, price)\n",
    "        print(\"------\")"
   ]
  },
  {
   "cell_type": "markdown",
   "id": "91c62afb",
   "metadata": {},
   "source": [
    "<!-- https://www.amazon.in/Audible-Books-and-Originals/b/?ie=UTF8&node=17941593031&ref_=nav_cs_audible -->\n",
    "\n",
    "<!-- <base-url>/<slug>/dp/<product_id> -->"
   ]
  }
 ],
 "metadata": {
  "kernelspec": {
   "display_name": "Python 3 (ipykernel)",
   "language": "python",
   "name": "python3"
  },
  "language_info": {
   "codemirror_mode": {
    "name": "ipython",
    "version": 3
   },
   "file_extension": ".py",
   "mimetype": "text/x-python",
   "name": "python",
   "nbconvert_exporter": "python",
   "pygments_lexer": "ipython3",
   "version": "3.11.3"
  }
 },
 "nbformat": 4,
 "nbformat_minor": 5
}
