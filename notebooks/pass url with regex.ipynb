{
 "cells": [
  {
   "cell_type": "code",
   "execution_count": 18,
   "id": "375fc12e-696d-44c0-9935-9d6c1ab618fd",
   "metadata": {},
   "outputs": [],
   "source": [
    "import requests\n",
    "import re\n",
    "from requests_html import HTML\n",
    "from selenium import webdriver\n",
    "import time\n",
    "from selenium.webdriver.chrome.options import Options # for headless mode\n"
   ]
  },
  {
   "cell_type": "code",
   "execution_count": 19,
   "id": "7e3e80de",
   "metadata": {},
   "outputs": [
    {
     "name": "stderr",
     "output_type": "stream",
     "text": [
      "Exception managing chrome: error sending request for url (https://googlechromelabs.github.io/chrome-for-testing/known-good-versions-with-downloads.json): error trying to connect: dns error: No such host is known. (os error 11001)\n",
      "The chromedriver version (120.0.6099.109) detected in PATH at C:\\chromedriver\\chromedriver.exe might not be compatible with the detected chrome version (121.0.6167.161); currently, chromedriver  is recommended for chrome 121.*, so it is advised to delete the driver in PATH and retry\n",
      "Error sending stats to Plausible: error sending request for url (https://plausible.io/api/event): error trying to connect: dns error: No such host is known. (os error 11001)\n"
     ]
    }
   ],
   "source": [
    "options = Options()\n",
    "options.add_argument(\"--headless\") # Runs Chrome in headless mode.\n",
    "driver = webdriver.Chrome(options=options)\n"
   ]
  },
  {
   "cell_type": "code",
   "execution_count": 20,
   "id": "6a249255",
   "metadata": {},
   "outputs": [],
   "source": [
    "categories = [\n",
    "    \"https://www.amazon.in/gp/bestsellers/boost/ref=zg_bs_nav_boost_0\",\n",
    "    \"https://www.amazon.in/gp/bestsellers/electronics/ref=zg_bs_nav_electronics_0\",\n",
    "    \"https://www.amazon.in/gp/bestsellers/electronics/1389335031/ref=zg_bs_nav_electronics_1\",]\n"
   ]
  },
  {
   "cell_type": "code",
   "execution_count": 21,
   "id": "a03e3494",
   "metadata": {},
   "outputs": [],
   "source": [
    "first_url = categories[0]"
   ]
  },
  {
   "cell_type": "code",
   "execution_count": 22,
   "id": "5b74efb4",
   "metadata": {},
   "outputs": [],
   "source": [
    "driver.get(first_url)"
   ]
  },
  {
   "cell_type": "code",
   "execution_count": 23,
   "id": "a02b78d3",
   "metadata": {},
   "outputs": [],
   "source": [
    "body_el = driver.find_element(by=\"tag name\", value=\"body\")\n",
    "html_str = body_el.get_attribute(\"innerHTML\")"
   ]
  },
  {
   "cell_type": "code",
   "execution_count": 24,
   "id": "53cdaae8",
   "metadata": {},
   "outputs": [],
   "source": [
    "html_obj = HTML(html=html_str)"
   ]
  },
  {
   "cell_type": "code",
   "execution_count": 25,
   "id": "ab6c814e",
   "metadata": {},
   "outputs": [
    {
     "name": "stdout",
     "output_type": "stream",
     "text": [
      "['/Sirona-Approved-Reusable-Menstrual-Silicone/dp/B07548J9WC/ref=zg_bs_g_boost_d_sccl_3/261-1198201-1142810?psc=1', '/product-reviews/B07J6GBG8H/ref=zg_bs_g_boost_d_sccl_19_cr/261-1198201-1142810', '/Hykes-Compression-Support-Running-Cycling/dp/B07J6GBG8H/ref=zg_bs_g_boost_d_sccl_19/261-1198201-1142810?psc=1', '/prime?ref_=nav_cs_primelink_nonmember', '/Sirona-Disposable-Underarm-Peel-off-Unpleasant/dp/B01BKBOGDY/ref=zg_bs_g_boost_d_sccl_8/261-1198201-1142810?psc=1', '/now?ref=footer_amznow', '/FIXDERMA-Sunscreen-30-Protection-Resistant/dp/B089RJ6Z3K/ref=zg_bs_g_boost_d_sccl_5/261-1198201-1142810?psc=1', '/gp/browse.html?node=6648217031&ref_=nav_cs_fashion', '/product-reviews/B08SQ6S5HF/ref=zg_bs_g_boost_d_sccl_27_cr/261-1198201-1142810', '/gp/bestsellers/boost/10894277031/ref=zg_bs_nav_boost_1', '/gp/help/customer/display.html?nodeId=200534380&ref_=footer_privacy', '/hz/mycd/myx?pageType=content&ref_=nav_AccountFlyout_myk', '/product-reviews/B07548J9WC/ref=zg_bs_g_boost_d_sccl_3_cr/261-1198201-1142810', '/product-reviews/B082W9S7LM/ref=zg_bs_g_boost_d_sccl_25_cr/261-1198201-1142810', '/gp/help/customer/display.html?nodeId=GDFU3JS5AL6SYHRD&ref_=footer_covid', '/gp/most-wished-for/boost/ref=zg_bs_tab_t_boost_mw', '/business?ref=footer_aingw', '/AmbiTech-PHX-01-Thermometer-Operation-Underarm/dp/B082W9S7LM/ref=zg_bs_g_boost_d_sccl_25/261-1198201-1142810?psc=1', '/product-reviews/B07YB9QSRM/ref=zg_bs_g_boost_d_sccl_26_cr/261-1198201-1142810', '/product-reviews/B07H5PVCH7/ref=zg_bs_g_boost_d_sccl_6_cr/261-1198201-1142810', '/music/prime?ref=footer_apm', '/product-reviews/B09XVJPQKZ/ref=zg_bs_g_boost_d_sccl_18_cr/261-1198201-1142810', '/amazon-launchpad/b/?ie=UTF8&node=10894223031&ref_=topnav_storetab_lpdin', '/Kindle-eBooks/b/?ie=UTF8&node=1634753031&ref_=nav_cs_kindle_books', '/Baby/b/?ie=UTF8&node=1571274031&ref_=nav_cs_baby', '/Vooki-Ecofriendly-Stains-Descaler-Remover/dp/B0B4GBRRR3/ref=zg_bs_g_boost_d_sccl_12/261-1198201-1142810?psc=1', '/gp/css/homepage.html?ref_=footer_ya', '/ref=footer_logo', '/customer-preferences/edit?ie=UTF8&preferencesReturnUrl=%2Fgp%2Fbestsellers%2Fboost%2Fref%3Dzg_bs_nav_boost_0&ref_=footer_lang', '/Phool-Mosquito-Repellent-Incense-Fragrances/dp/B08CMWTNFL/ref=zg_bs_g_boost_d_sccl_17/261-1198201-1142810?psc=1', '/Indigenous-Unprocessed-Unfiltered-Unpasteurized-Disorders/dp/B07H5PVCH7/ref=zg_bs_g_boost_d_sccl_6/261-1198201-1142810?psc=1', '/gp/bestsellers/boost/ref=zg_bs_pg_2_boost?ie=UTF8&pg=2', '/beauty/b/?ie=UTF8&node=1355016031&ref_=nav_cs_beauty', '/mobile-phones/b/?ie=UTF8&node=1389401031&ref_=nav_cs_mobiles', '/gp/sva/dashboard?ref_=nav_cs_apay', '/Finishing-Non-Greasy-Non-Sticky-Must-Have-Accessory/dp/B0BSLJV9M8/ref=zg_bs_g_boost_d_sccl_21/261-1198201-1142810?psc=1', '/gp/bestsellers/boost/10894286031/ref=zg_bs_nav_boost_1', '/minitv?ref_=nav_avod_desktop_topnav', '/Ballistic-Manscaping-Grooming-Waterproof-Cordless/dp/B0BD8RXV99/ref=zg_bs_g_boost_d_sccl_4/261-1198201-1142810?psc=1', '/gp/primecentral?ref_=nav_AccountFlyout_prime', '/Be-Bodywise-Supplements-Strawberry-Multivitamins/dp/B092ZXX7XP/ref=zg_bs_g_boost_d_sccl_9/261-1198201-1142810?psc=1', '/gift-card-store/b/?ie=UTF8&node=3704982031&ref_=nav_cs_gc', '/Frido-Trimmable-Insoles-Replacing-Existing/dp/B09RV5JVMM/ref=zg_bs_g_boost_d_sccl_23/261-1198201-1142810?psc=1', '/Auravedic-Kumkumadi-Saffron-Brightening-Radiance/dp/B00YXTNFJC/ref=zg_bs_g_boost_d_sccl_20/261-1198201-1142810?psc=1', '/Pet-Supplies/b/?ie=UTF8&node=2454181031&ref_=nav_cs_pets', '/gp/bestsellers/ref=zg_bs_unv_boost_0_1', '/b/?node=2838698031&ld=AZINSOAYAFlyout&ref_=nav_AccountFlyout_sell', '/Sirona-Sanitary-Napkin-Diapers-Disposal/dp/B01N6XGKFU/ref=zg_bs_g_boost_d_sccl_24/261-1198201-1142810?psc=1', '/gp/css/order-history?ref_=nav_orders_first', '/discover/?ref_=nav_ListFlyout_sbl', '/showroom?ref_=nav_ListFlyout_srm_your_desk_wl_in', '/gp/bestsellers/boost/10894243031/ref=zg_bs_nav_boost_1', '/electronics/b/?ie=UTF8&node=976419031&ref_=nav_cs_electronics', '/product-reviews/B0B4GBRRR3/ref=zg_bs_g_boost_d_sccl_12_cr/261-1198201-1142810', '/gp/bestsellers/boost/10894268031/ref=zg_bs_nav_boost_1', '/baby-reg/homepage?ref_=nav_ListFlyout_gno_listpop_br', '/gp/css/homepage.html?ref_=nav_AccountFlyout_ya', '/product-reviews/B0BBS6YFZR/ref=zg_bs_g_boost_d_sccl_11_cr/261-1198201-1142810', '/gp/css/returns/homepage.html?ref_=footer_hy_f_4', '/Audible-Books-and-Originals/b/?ie=UTF8&node=17941593031&ref_=nav_cs_audible', '/Home-Improvement/b/?ie=UTF8&node=4286640031&ref_=nav_cs_hi', '/product-reviews/B0BSLJV9M8/ref=zg_bs_g_boost_d_sccl_21_cr/261-1198201-1142810', '/SOFTSPUN-Microfiber-Detailing-Polishing-Muticolor/dp/B01LZ3TGL2/ref=zg_bs_g_boost_d_sccl_28/261-1198201-1142810?psc=1', '/b/32702023031?node=32702023031&ld=AZINSOANavDesktop_T3&ref_=nav_cs_sell_T3', '/product-reviews/B01LZ3TGL2/ref=zg_bs_g_boost_d_sccl_28_cr/261-1198201-1142810', '/DesiDiya%C2%AE-Astronaut-Galaxy-Projector-Control/dp/B0C73B4D1W/ref=zg_bs_g_boost_d_sccl_2/261-1198201-1142810?psc=1', '/product-reviews/B01BKBOGDY/ref=zg_bs_g_boost_d_sccl_8_cr/261-1198201-1142810', '/product-reviews/B01N6XGKFU/ref=zg_bs_g_boost_d_sccl_24_cr/261-1198201-1142810', '/product-reviews/B09DYM1L2M/ref=zg_bs_g_boost_d_sccl_13_cr/261-1198201-1142810', '/Control-White-Compressor-Complete-Nebulizer/dp/B07YB9QSRM/ref=zg_bs_g_boost_d_sccl_26/261-1198201-1142810?psc=1', '/product-reviews/B0C73B4D1W/ref=zg_bs_g_boost_d_sccl_2_cr/261-1198201-1142810', '/ASGARD-Melt-Blown-Fabric-Disposable-Unisex/dp/B08B1TVYT1/ref=zg_bs_g_boost_d_sccl_22/261-1198201-1142810?psc=1', '/product-reviews/B08B1TVYT1/ref=zg_bs_g_boost_d_sccl_22_cr/261-1198201-1142810', '/Honey-Twigs-Tasterz-Combo-Pack/dp/B0BBS6YFZR/ref=zg_bs_g_boost_d_sccl_11/261-1198201-1142810?psc=1', '/gp/help/customer/display.html?nodeId=200545940&ref_=footer_cou', '/gp/help/customer/display.html?nodeId=202075050&ref_=footer_iba', '/product-reviews/B08CMWTNFL/ref=zg_bs_g_boost_d_sccl_17_cr/261-1198201-1142810', '/gp/yourstore?ref_=nav_AccountFlyout_recs', '/gp/new-releases/?ref_=nav_cs_newreleases', '/gp/browse.html?node=6967393031&ref_=footer_mobapp', '/Sirona-Reusable-Blink-Razor-Women/dp/B09DYM1L2M/ref=zg_bs_g_boost_d_sccl_13/261-1198201-1142810?psc=1', '/gp/history', '/b/?_encoding=UTF8&ie=UTF8&node=10894230031&ref_=sv_lpdin_2', '/Sports/b/?ie=UTF8&node=1984443031&ref_=nav_cs_sports', '/product-reviews/B089RJ6Z3K/ref=zg_bs_g_boost_d_sccl_5_cr/261-1198201-1142810', '/product-reviews/B0BD8RXV99/ref=zg_bs_g_boost_d_sccl_4_cr/261-1198201-1142810', '/Books/b/?ie=UTF8&node=976389031&ref_=nav_cs_books', '/amazon-coupons/b/?_encoding=UTF8&node=10465704031&ref_=nav_cs_coupons', '/gp/most-gifted/boost/ref=zg_bs_tab_t_boost_mg', '/product-reviews/B00YXTNFJC/ref=zg_bs_g_boost_d_sccl_20_cr/261-1198201-1142810', '/auto-deliveries/landing?ref_=nav_cs_sns', '/gp/help/customer/display.html?nodeId=200507590&ref_=nav_cs_help', '/Home-Kitchen/b/?ie=UTF8&node=976442031&ref_=nav_cs_home', '/ref=nav_logo', '/gp/bestsellers/boost/10894230031/ref=zg_bs_nav_boost_1', '/Whats-Up-Wellness-Buckthorn-Grapeseed/dp/B08YRFZGQF/ref=zg_bs_g_boost_d_sccl_10/261-1198201-1142810?psc=1', '/SOFTSPUN-Microfiber-Cleaning-Cloth-340GSM/dp/B07GBZ1KV8/ref=zg_bs_g_boost_d_sccl_7/261-1198201-1142810?psc=1', '/Evair-Freshener-Essential-Fragrance-Diffuser/dp/B0BLH1SBPK/ref=zg_bs_g_boost_d_sccl_14/261-1198201-1142810?psc=1', '/gp/video/ssoredirect/?ie=UTF8&pvp=%2F%3Fref_%3Ddvm_crs_in_s_gw_swm_dk_np_captmill&ref_=nav_swm_dvm_crs_in_s_gw_swm_dk_np_captmill&pf_rd_p=fad30fe9-9ac9-4640-b5e2-0b0b168ebc77&pf_rd_s=nav-sitewide-msg&pf_rd_t=4201&pf_rd_i=navbar-4201&pf_rd_m=A21TJRUUN4KGV&pf_rd_r=GDNVW3R0GW92HSP1XRY9', '/gp/movers-and-shakers/boost/ref=zg_bs_tab_t_boost_bsms', '/b/?node=6637738031&ref_=nav_cs_amazonbasics', '/gp/bestsellers/boost/10894224031/ref=zg_bs_nav_boost_1', '/product-reviews/B07GBZ1KV8/ref=zg_bs_g_boost_d_sccl_7_cr/261-1198201-1142810', '/gp/bestsellers/boost/10894313031/ref=zg_bs_nav_boost_1', '/gp/bestsellers/?ref_=nav_cs_bestsellers', '/computers-and-accessories/b/?ie=UTF8&node=976392031&ref_=nav_cs_pc', '/hz5/yourmembershipsandsubscriptions?ref_=nav_AccountFlyout_digital_subscriptions', '/b/?_encoding=UTF8&node=10894259031&ref_=sv_lpdin_5#container', '/product-reviews/B092ZXX7XP/ref=zg_bs_g_boost_d_sccl_9_cr/261-1198201-1142810', '/Honey-Twigs-Ingredients-concentrate-Immunity/dp/B099F4QBKR/ref=zg_bs_g_boost_d_sccl_29/261-1198201-1142810?psc=1', '/product-reviews/B0C1SSMFVY/ref=zg_bs_g_boost_d_sccl_16_cr/261-1198201-1142810', '/Sirona-Blink-Glow-Razor-Women/dp/B08SQ6S5HF/ref=zg_bs_g_boost_d_sccl_27/261-1198201-1142810?psc=1', '/hz/wishlist/ls?requiresSignIn=1&ref_=nav_AccountFlyout_wl', '/product-reviews/B099F4QBKR/ref=zg_bs_g_boost_d_sccl_29_cr/261-1198201-1142810', '/gp/browse.html?node=21102587031&ref_=nav_ya_flyout_b2b_reg_bottom', '/gp/bestsellers/boost/10894295031/ref=zg_bs_nav_boost_1', '/product-reviews/B077BFH786/ref=zg_bs_g_boost_d_sccl_1_cr/261-1198201-1142810', '/b/?_encoding=UTF8&ie=UTF8&node=10894224031&ref_=sv_lpdin_1', '/product-reviews/B09RV5JVMM/ref=zg_bs_g_boost_d_sccl_23_cr/261-1198201-1142810', '/gp/css/order-history?ref_=nav_AccountFlyout_orders', '/product-reviews/B0BLH1SBPK/ref=zg_bs_g_boost_d_sccl_14_cr/261-1198201-1142810', '/Toys-Games/b/?ie=UTF8&node=1350380031&ref_=nav_cs_toys', '/gp/bestsellers/boost/10894234031/ref=zg_bs_nav_boost_1', '/gcx/-/gfhz/?ref_=nav_cs_giftfinder', '/Vooki-Ecofriendly-Descaler-Remover-Bathroom/dp/B09XVJPQKZ/ref=zg_bs_g_boost_d_sccl_18/261-1198201-1142810?psc=1', '/Storescent-Reversible-Stuffed-Animal-Plushie/dp/B0C1SSMFVY/ref=zg_bs_g_boost_d_sccl_16/261-1198201-1142810?psc=1', '/product-reviews/B075V212VX/ref=zg_bs_g_boost_d_sccl_30_cr/261-1198201-1142810', '/gp/bestsellers/boost/14091152031/ref=zg_bs_nav_boost_1', '/customer-preferences/edit?ie=UTF8&preferencesReturnUrl=%2Fgp%2Fbestsellers%2Fboost%2Fref%3Dzg_bs_nav_boost_0&ref_=topnav_lang', '/wishlist/universal?ref_=nav_ListFlyout_gno_listpop_uwl', '/b/?_encoding=UTF8&ie=UTF8&node=10894243031&ref_=sv_lpdin_4', '/health-and-personal-care/b/?ie=UTF8&node=1350384031&ref_=nav_cs_hpc', '/SOFTSPUN-Microfiber-Cleaning-Detailing-Polishing/dp/B077BFH786/ref=zg_bs_g_boost_d_sccl_1/261-1198201-1142810?psc=1', '/Car-Motorbike-Store/b/?ie=UTF8&node=4772060031&ref_=nav_cs_automotive', '/PeeBuddy-Flushable-Disposable-Contact-Unhygienic/dp/B07MRNY1QQ/ref=zg_bs_g_boost_d_sccl_15/261-1198201-1142810?psc=1', '/product-reviews/B08YRFZGQF/ref=zg_bs_g_boost_d_sccl_10_cr/261-1198201-1142810', '/b/?_encoding=UTF8&ie=UTF8&node=10894234031&ref_=sv_lpdin_3', '/deals?ref_=nav_cs_gb', '/gp/bestsellers/boost/10894251031/ref=zg_bs_nav_boost_1', '/video-games/b/?ie=UTF8&node=976460031&ref_=nav_cs_video_games', '/gp/bestsellers/boost/ref=zg_bs_pg_1_boost?ie=UTF8&pg=1', '/hz/wishlist/ls?triggerElementID=createList&ref_=nav_ListFlyout_navFlyout_createList_lv_redirect', '/LetsShave-Reusable-Painless-Derma-Planing-Sensitive/dp/B075V212VX/ref=zg_bs_g_boost_d_sccl_30/261-1198201-1142810?psc=1', '/gp/help/customer/display.html?nodeId=200507590&ref_=footer_gw_m_b_he', '/Gourmet-Specialty-Foods/b/?ie=UTF8&node=2454178031&ref_=nav_cs_grocery', '/gp/redirect.html?location=https%3A%2F%2Fwww.primevideo.com%2F%3Fref_%3D_apv&source=nav_linktree&token=13D4F90D28CD96790B94E6091246BB1B2AE9FA05', '/gp/bestsellers/boost/17161295031/ref=zg_bs_nav_boost_1', '/b/?node=2838698031&ld=AZINSOANavDesktopFooter_C&ref_=nav_footer_sell_C', '/gp/help/customer/display.html?nodeId=201083470&ref_=footer_swc', '/product-reviews/B07MRNY1QQ/ref=zg_bs_g_boost_d_sccl_15_cr/261-1198201-1142810', '/auto-deliveries?ref_=nav_AccountFlyout_sns']\n"
     ]
    }
   ],
   "source": [
    "new_links = [x for x in html_obj.links if x.startswith(\"/\")]\n",
    "print(new_links)\n",
    "new_links=[x for x in new_links if \"product-reviews/\" not in x]"
   ]
  },
  {
   "cell_type": "code",
   "execution_count": 26,
   "id": "9a2faec8",
   "metadata": {},
   "outputs": [],
   "source": [
    "class_options=[\".a-price-whole\", \".a-offscreen\", ]\n",
    "\n",
    "\n",
    "def scrape_product_page(\n",
    "\n",
    "    url,\n",
    "    title_lookup=\"#productTitle\",\n",
    "\n",
    "):\n",
    "\n",
    "    driver.get(url)\n",
    "\n",
    "    time.sleep(1.2)\n",
    "\n",
    "    body_el = driver.find_element(by=\"tag name\", value=\"body\")  \n",
    "    html_str = body_el.get_attribute(\"innerHTML\")\n",
    "\n",
    "    html_obj = HTML(html=html_str)\n",
    "   \n",
    "    product_title = html_obj.find(title_lookup, first=True).text\n",
    "    for price_lookup in class_options:\n",
    "        product_price = html_obj.find(price_lookup, first=True).text\n",
    "    return product_title, product_price"
   ]
  },
  {
   "cell_type": "code",
   "execution_count": 27,
   "id": "af8d6e0a",
   "metadata": {},
   "outputs": [],
   "source": [
    "my_regex_pattern = r\"https://www.amazon.in/(?P<slug>[\\w-]+)/dp/(?P<product_id>[\\w]+)/\"\n",
    "my_url = \"https://www.amazon.in/SOFTSPUN-Microfiber-Cleaning-Cloth-340GSM/dp/B07GBZ1KV8/\""
   ]
  },
  {
   "cell_type": "code",
   "execution_count": 28,
   "id": "34d02326",
   "metadata": {},
   "outputs": [],
   "source": [
    "regex=re.compile(my_regex_pattern)"
   ]
  },
  {
   "cell_type": "code",
   "execution_count": 29,
   "id": "e92fda6f",
   "metadata": {},
   "outputs": [
    {
     "name": "stdout",
     "output_type": "stream",
     "text": [
      "<re.Match object; span=(0, 78), match='https://www.amazon.in/SOFTSPUN-Microfiber-Cleanin>\n"
     ]
    },
    {
     "data": {
      "text/plain": [
       "'SOFTSPUN-Microfiber-Cleaning-Cloth-340GSM'"
      ]
     },
     "execution_count": 29,
     "metadata": {},
     "output_type": "execute_result"
    }
   ],
   "source": [
    "my_match = regex.match(my_url)\n",
    "print(my_match)\n",
    "my_match[\"product_id\"]\n",
    "my_match[\"slug\"]"
   ]
  },
  {
   "cell_type": "code",
   "execution_count": 30,
   "id": "f1ea822f",
   "metadata": {},
   "outputs": [],
   "source": [
    "regex_options=[\n",
    "    \"https://www.amazon.in/(?P<slug>[\\w-]+)/dp/(?P<product_id>[\\w]+)/\",\n",
    "    \"https://www.amazon.in/dp/(?P<product_id>[\\w]+)/\",\n",
    "    \"https://www.amazon.in/gp/product/(?P<product_id>[\\w]+)/\",\n",
    "]\n",
    "\n",
    "def extract_product_id_from_url(url):\n",
    "    product_id=None\n",
    "    for regex_str in regex_options:\n",
    "        regex=re.compile(regex_str)\n",
    "        my_match = regex.match(url)\n",
    "        if my_match != None:\n",
    "            try:\n",
    "                product_id = my_match[\"product_id\"]\n",
    "            except:\n",
    "                pass\n",
    "        \n",
    "    return product_id"
   ]
  },
  {
   "cell_type": "code",
   "execution_count": 31,
   "id": "6516ca9e",
   "metadata": {},
   "outputs": [
    {
     "name": "stdout",
     "output_type": "stream",
     "text": [
      "['https://www.amazon.in/Sirona-Approved-Reusable-Menstrual-Silicone/dp/B07548J9WC/ref=zg_bs_g_boost_d_sccl_3/261-1198201-1142810?psc=1', 'https://www.amazon.in/Hykes-Compression-Support-Running-Cycling/dp/B07J6GBG8H/ref=zg_bs_g_boost_d_sccl_19/261-1198201-1142810?psc=1', 'https://www.amazon.in/prime?ref_=nav_cs_primelink_nonmember', 'https://www.amazon.in/Sirona-Disposable-Underarm-Peel-off-Unpleasant/dp/B01BKBOGDY/ref=zg_bs_g_boost_d_sccl_8/261-1198201-1142810?psc=1', 'https://www.amazon.in/now?ref=footer_amznow', 'https://www.amazon.in/FIXDERMA-Sunscreen-30-Protection-Resistant/dp/B089RJ6Z3K/ref=zg_bs_g_boost_d_sccl_5/261-1198201-1142810?psc=1', 'https://www.amazon.in/gp/browse.html?node=6648217031&ref_=nav_cs_fashion', 'https://www.amazon.in/gp/bestsellers/boost/10894277031/ref=zg_bs_nav_boost_1', 'https://www.amazon.in/gp/help/customer/display.html?nodeId=200534380&ref_=footer_privacy', 'https://www.amazon.in/hz/mycd/myx?pageType=content&ref_=nav_AccountFlyout_myk', 'https://www.amazon.in/gp/help/customer/display.html?nodeId=GDFU3JS5AL6SYHRD&ref_=footer_covid', 'https://www.amazon.in/gp/most-wished-for/boost/ref=zg_bs_tab_t_boost_mw', 'https://www.amazon.in/business?ref=footer_aingw', 'https://www.amazon.in/AmbiTech-PHX-01-Thermometer-Operation-Underarm/dp/B082W9S7LM/ref=zg_bs_g_boost_d_sccl_25/261-1198201-1142810?psc=1', 'https://www.amazon.in/music/prime?ref=footer_apm', 'https://www.amazon.in/amazon-launchpad/b/?ie=UTF8&node=10894223031&ref_=topnav_storetab_lpdin', 'https://www.amazon.in/Kindle-eBooks/b/?ie=UTF8&node=1634753031&ref_=nav_cs_kindle_books', 'https://www.amazon.in/Baby/b/?ie=UTF8&node=1571274031&ref_=nav_cs_baby', 'https://www.amazon.in/Vooki-Ecofriendly-Stains-Descaler-Remover/dp/B0B4GBRRR3/ref=zg_bs_g_boost_d_sccl_12/261-1198201-1142810?psc=1', 'https://www.amazon.in/gp/css/homepage.html?ref_=footer_ya', 'https://www.amazon.in/ref=footer_logo', 'https://www.amazon.in/customer-preferences/edit?ie=UTF8&preferencesReturnUrl=%2Fgp%2Fbestsellers%2Fboost%2Fref%3Dzg_bs_nav_boost_0&ref_=footer_lang', 'https://www.amazon.in/Phool-Mosquito-Repellent-Incense-Fragrances/dp/B08CMWTNFL/ref=zg_bs_g_boost_d_sccl_17/261-1198201-1142810?psc=1', 'https://www.amazon.in/Indigenous-Unprocessed-Unfiltered-Unpasteurized-Disorders/dp/B07H5PVCH7/ref=zg_bs_g_boost_d_sccl_6/261-1198201-1142810?psc=1', 'https://www.amazon.in/gp/bestsellers/boost/ref=zg_bs_pg_2_boost?ie=UTF8&pg=2', 'https://www.amazon.in/beauty/b/?ie=UTF8&node=1355016031&ref_=nav_cs_beauty', 'https://www.amazon.in/mobile-phones/b/?ie=UTF8&node=1389401031&ref_=nav_cs_mobiles', 'https://www.amazon.in/gp/sva/dashboard?ref_=nav_cs_apay', 'https://www.amazon.in/Finishing-Non-Greasy-Non-Sticky-Must-Have-Accessory/dp/B0BSLJV9M8/ref=zg_bs_g_boost_d_sccl_21/261-1198201-1142810?psc=1', 'https://www.amazon.in/gp/bestsellers/boost/10894286031/ref=zg_bs_nav_boost_1', 'https://www.amazon.in/minitv?ref_=nav_avod_desktop_topnav', 'https://www.amazon.in/Ballistic-Manscaping-Grooming-Waterproof-Cordless/dp/B0BD8RXV99/ref=zg_bs_g_boost_d_sccl_4/261-1198201-1142810?psc=1', 'https://www.amazon.in/gp/primecentral?ref_=nav_AccountFlyout_prime', 'https://www.amazon.in/Be-Bodywise-Supplements-Strawberry-Multivitamins/dp/B092ZXX7XP/ref=zg_bs_g_boost_d_sccl_9/261-1198201-1142810?psc=1', 'https://www.amazon.in/gift-card-store/b/?ie=UTF8&node=3704982031&ref_=nav_cs_gc', 'https://www.amazon.in/Frido-Trimmable-Insoles-Replacing-Existing/dp/B09RV5JVMM/ref=zg_bs_g_boost_d_sccl_23/261-1198201-1142810?psc=1', 'https://www.amazon.in/Auravedic-Kumkumadi-Saffron-Brightening-Radiance/dp/B00YXTNFJC/ref=zg_bs_g_boost_d_sccl_20/261-1198201-1142810?psc=1', 'https://www.amazon.in/Pet-Supplies/b/?ie=UTF8&node=2454181031&ref_=nav_cs_pets', 'https://www.amazon.in/gp/bestsellers/ref=zg_bs_unv_boost_0_1', 'https://www.amazon.in/b/?node=2838698031&ld=AZINSOAYAFlyout&ref_=nav_AccountFlyout_sell', 'https://www.amazon.in/Sirona-Sanitary-Napkin-Diapers-Disposal/dp/B01N6XGKFU/ref=zg_bs_g_boost_d_sccl_24/261-1198201-1142810?psc=1', 'https://www.amazon.in/gp/css/order-history?ref_=nav_orders_first', 'https://www.amazon.in/discover/?ref_=nav_ListFlyout_sbl', 'https://www.amazon.in/showroom?ref_=nav_ListFlyout_srm_your_desk_wl_in', 'https://www.amazon.in/gp/bestsellers/boost/10894243031/ref=zg_bs_nav_boost_1', 'https://www.amazon.in/electronics/b/?ie=UTF8&node=976419031&ref_=nav_cs_electronics', 'https://www.amazon.in/gp/bestsellers/boost/10894268031/ref=zg_bs_nav_boost_1', 'https://www.amazon.in/baby-reg/homepage?ref_=nav_ListFlyout_gno_listpop_br', 'https://www.amazon.in/gp/css/homepage.html?ref_=nav_AccountFlyout_ya', 'https://www.amazon.in/gp/css/returns/homepage.html?ref_=footer_hy_f_4', 'https://www.amazon.in/Audible-Books-and-Originals/b/?ie=UTF8&node=17941593031&ref_=nav_cs_audible', 'https://www.amazon.in/Home-Improvement/b/?ie=UTF8&node=4286640031&ref_=nav_cs_hi', 'https://www.amazon.in/SOFTSPUN-Microfiber-Detailing-Polishing-Muticolor/dp/B01LZ3TGL2/ref=zg_bs_g_boost_d_sccl_28/261-1198201-1142810?psc=1', 'https://www.amazon.in/b/32702023031?node=32702023031&ld=AZINSOANavDesktop_T3&ref_=nav_cs_sell_T3', 'https://www.amazon.in/DesiDiya%C2%AE-Astronaut-Galaxy-Projector-Control/dp/B0C73B4D1W/ref=zg_bs_g_boost_d_sccl_2/261-1198201-1142810?psc=1', 'https://www.amazon.in/Control-White-Compressor-Complete-Nebulizer/dp/B07YB9QSRM/ref=zg_bs_g_boost_d_sccl_26/261-1198201-1142810?psc=1', 'https://www.amazon.in/ASGARD-Melt-Blown-Fabric-Disposable-Unisex/dp/B08B1TVYT1/ref=zg_bs_g_boost_d_sccl_22/261-1198201-1142810?psc=1', 'https://www.amazon.in/Honey-Twigs-Tasterz-Combo-Pack/dp/B0BBS6YFZR/ref=zg_bs_g_boost_d_sccl_11/261-1198201-1142810?psc=1', 'https://www.amazon.in/gp/help/customer/display.html?nodeId=200545940&ref_=footer_cou', 'https://www.amazon.in/gp/help/customer/display.html?nodeId=202075050&ref_=footer_iba', 'https://www.amazon.in/gp/yourstore?ref_=nav_AccountFlyout_recs', 'https://www.amazon.in/gp/new-releases/?ref_=nav_cs_newreleases', 'https://www.amazon.in/gp/browse.html?node=6967393031&ref_=footer_mobapp', 'https://www.amazon.in/Sirona-Reusable-Blink-Razor-Women/dp/B09DYM1L2M/ref=zg_bs_g_boost_d_sccl_13/261-1198201-1142810?psc=1', 'https://www.amazon.in/gp/history', 'https://www.amazon.in/b/?_encoding=UTF8&ie=UTF8&node=10894230031&ref_=sv_lpdin_2', 'https://www.amazon.in/Sports/b/?ie=UTF8&node=1984443031&ref_=nav_cs_sports', 'https://www.amazon.in/Books/b/?ie=UTF8&node=976389031&ref_=nav_cs_books', 'https://www.amazon.in/amazon-coupons/b/?_encoding=UTF8&node=10465704031&ref_=nav_cs_coupons', 'https://www.amazon.in/gp/most-gifted/boost/ref=zg_bs_tab_t_boost_mg', 'https://www.amazon.in/auto-deliveries/landing?ref_=nav_cs_sns', 'https://www.amazon.in/gp/help/customer/display.html?nodeId=200507590&ref_=nav_cs_help', 'https://www.amazon.in/Home-Kitchen/b/?ie=UTF8&node=976442031&ref_=nav_cs_home', 'https://www.amazon.in/ref=nav_logo', 'https://www.amazon.in/gp/bestsellers/boost/10894230031/ref=zg_bs_nav_boost_1', 'https://www.amazon.in/Whats-Up-Wellness-Buckthorn-Grapeseed/dp/B08YRFZGQF/ref=zg_bs_g_boost_d_sccl_10/261-1198201-1142810?psc=1', 'https://www.amazon.in/SOFTSPUN-Microfiber-Cleaning-Cloth-340GSM/dp/B07GBZ1KV8/ref=zg_bs_g_boost_d_sccl_7/261-1198201-1142810?psc=1', 'https://www.amazon.in/Evair-Freshener-Essential-Fragrance-Diffuser/dp/B0BLH1SBPK/ref=zg_bs_g_boost_d_sccl_14/261-1198201-1142810?psc=1', 'https://www.amazon.in/gp/video/ssoredirect/?ie=UTF8&pvp=%2F%3Fref_%3Ddvm_crs_in_s_gw_swm_dk_np_captmill&ref_=nav_swm_dvm_crs_in_s_gw_swm_dk_np_captmill&pf_rd_p=fad30fe9-9ac9-4640-b5e2-0b0b168ebc77&pf_rd_s=nav-sitewide-msg&pf_rd_t=4201&pf_rd_i=navbar-4201&pf_rd_m=A21TJRUUN4KGV&pf_rd_r=GDNVW3R0GW92HSP1XRY9', 'https://www.amazon.in/gp/movers-and-shakers/boost/ref=zg_bs_tab_t_boost_bsms', 'https://www.amazon.in/b/?node=6637738031&ref_=nav_cs_amazonbasics', 'https://www.amazon.in/gp/bestsellers/boost/10894224031/ref=zg_bs_nav_boost_1', 'https://www.amazon.in/gp/bestsellers/boost/10894313031/ref=zg_bs_nav_boost_1', 'https://www.amazon.in/gp/bestsellers/?ref_=nav_cs_bestsellers', 'https://www.amazon.in/computers-and-accessories/b/?ie=UTF8&node=976392031&ref_=nav_cs_pc', 'https://www.amazon.in/hz5/yourmembershipsandsubscriptions?ref_=nav_AccountFlyout_digital_subscriptions', 'https://www.amazon.in/b/?_encoding=UTF8&node=10894259031&ref_=sv_lpdin_5#container', 'https://www.amazon.in/Honey-Twigs-Ingredients-concentrate-Immunity/dp/B099F4QBKR/ref=zg_bs_g_boost_d_sccl_29/261-1198201-1142810?psc=1', 'https://www.amazon.in/Sirona-Blink-Glow-Razor-Women/dp/B08SQ6S5HF/ref=zg_bs_g_boost_d_sccl_27/261-1198201-1142810?psc=1', 'https://www.amazon.in/hz/wishlist/ls?requiresSignIn=1&ref_=nav_AccountFlyout_wl', 'https://www.amazon.in/gp/browse.html?node=21102587031&ref_=nav_ya_flyout_b2b_reg_bottom', 'https://www.amazon.in/gp/bestsellers/boost/10894295031/ref=zg_bs_nav_boost_1', 'https://www.amazon.in/b/?_encoding=UTF8&ie=UTF8&node=10894224031&ref_=sv_lpdin_1', 'https://www.amazon.in/gp/css/order-history?ref_=nav_AccountFlyout_orders', 'https://www.amazon.in/Toys-Games/b/?ie=UTF8&node=1350380031&ref_=nav_cs_toys', 'https://www.amazon.in/gp/bestsellers/boost/10894234031/ref=zg_bs_nav_boost_1', 'https://www.amazon.in/gcx/-/gfhz/?ref_=nav_cs_giftfinder', 'https://www.amazon.in/Vooki-Ecofriendly-Descaler-Remover-Bathroom/dp/B09XVJPQKZ/ref=zg_bs_g_boost_d_sccl_18/261-1198201-1142810?psc=1', 'https://www.amazon.in/Storescent-Reversible-Stuffed-Animal-Plushie/dp/B0C1SSMFVY/ref=zg_bs_g_boost_d_sccl_16/261-1198201-1142810?psc=1', 'https://www.amazon.in/gp/bestsellers/boost/14091152031/ref=zg_bs_nav_boost_1', 'https://www.amazon.in/customer-preferences/edit?ie=UTF8&preferencesReturnUrl=%2Fgp%2Fbestsellers%2Fboost%2Fref%3Dzg_bs_nav_boost_0&ref_=topnav_lang', 'https://www.amazon.in/wishlist/universal?ref_=nav_ListFlyout_gno_listpop_uwl', 'https://www.amazon.in/b/?_encoding=UTF8&ie=UTF8&node=10894243031&ref_=sv_lpdin_4', 'https://www.amazon.in/health-and-personal-care/b/?ie=UTF8&node=1350384031&ref_=nav_cs_hpc', 'https://www.amazon.in/SOFTSPUN-Microfiber-Cleaning-Detailing-Polishing/dp/B077BFH786/ref=zg_bs_g_boost_d_sccl_1/261-1198201-1142810?psc=1', 'https://www.amazon.in/Car-Motorbike-Store/b/?ie=UTF8&node=4772060031&ref_=nav_cs_automotive', 'https://www.amazon.in/PeeBuddy-Flushable-Disposable-Contact-Unhygienic/dp/B07MRNY1QQ/ref=zg_bs_g_boost_d_sccl_15/261-1198201-1142810?psc=1', 'https://www.amazon.in/b/?_encoding=UTF8&ie=UTF8&node=10894234031&ref_=sv_lpdin_3', 'https://www.amazon.in/deals?ref_=nav_cs_gb', 'https://www.amazon.in/gp/bestsellers/boost/10894251031/ref=zg_bs_nav_boost_1', 'https://www.amazon.in/video-games/b/?ie=UTF8&node=976460031&ref_=nav_cs_video_games', 'https://www.amazon.in/gp/bestsellers/boost/ref=zg_bs_pg_1_boost?ie=UTF8&pg=1', 'https://www.amazon.in/hz/wishlist/ls?triggerElementID=createList&ref_=nav_ListFlyout_navFlyout_createList_lv_redirect', 'https://www.amazon.in/LetsShave-Reusable-Painless-Derma-Planing-Sensitive/dp/B075V212VX/ref=zg_bs_g_boost_d_sccl_30/261-1198201-1142810?psc=1', 'https://www.amazon.in/gp/help/customer/display.html?nodeId=200507590&ref_=footer_gw_m_b_he', 'https://www.amazon.in/Gourmet-Specialty-Foods/b/?ie=UTF8&node=2454178031&ref_=nav_cs_grocery', 'https://www.amazon.in/gp/redirect.html?location=https%3A%2F%2Fwww.primevideo.com%2F%3Fref_%3D_apv&source=nav_linktree&token=13D4F90D28CD96790B94E6091246BB1B2AE9FA05', 'https://www.amazon.in/gp/bestsellers/boost/17161295031/ref=zg_bs_nav_boost_1', 'https://www.amazon.in/b/?node=2838698031&ld=AZINSOANavDesktopFooter_C&ref_=nav_footer_sell_C', 'https://www.amazon.in/gp/help/customer/display.html?nodeId=201083470&ref_=footer_swc', 'https://www.amazon.in/auto-deliveries?ref_=nav_AccountFlyout_sns']\n"
     ]
    }
   ],
   "source": [
    "page_links = [f\"https://www.amazon.in{x}\" for x in new_links]\n",
    "print(page_links)\n",
    "def clean_page_links(page_links=[]):\n",
    "    final_page_links = []\n",
    "    for url in page_links:\n",
    "        product_id = extract_product_id_from_url(url)\n",
    "        if product_id != None:\n",
    "            final_page_links.append({\"url\": url, \"product_id\": product_id})\n",
    "    return final_page_links\n",
    "\n",
    "cleaned_links=clean_page_links(page_links)"
   ]
  },
  {
   "cell_type": "code",
   "execution_count": 32,
   "id": "64368fcc",
   "metadata": {},
   "outputs": [
    {
     "data": {
      "text/plain": [
       "[{'url': 'https://www.amazon.in/Sirona-Approved-Reusable-Menstrual-Silicone/dp/B07548J9WC/ref=zg_bs_g_boost_d_sccl_3/261-1198201-1142810?psc=1',\n",
       "  'product_id': 'B07548J9WC'},\n",
       " {'url': 'https://www.amazon.in/Hykes-Compression-Support-Running-Cycling/dp/B07J6GBG8H/ref=zg_bs_g_boost_d_sccl_19/261-1198201-1142810?psc=1',\n",
       "  'product_id': 'B07J6GBG8H'},\n",
       " {'url': 'https://www.amazon.in/Sirona-Disposable-Underarm-Peel-off-Unpleasant/dp/B01BKBOGDY/ref=zg_bs_g_boost_d_sccl_8/261-1198201-1142810?psc=1',\n",
       "  'product_id': 'B01BKBOGDY'},\n",
       " {'url': 'https://www.amazon.in/FIXDERMA-Sunscreen-30-Protection-Resistant/dp/B089RJ6Z3K/ref=zg_bs_g_boost_d_sccl_5/261-1198201-1142810?psc=1',\n",
       "  'product_id': 'B089RJ6Z3K'},\n",
       " {'url': 'https://www.amazon.in/AmbiTech-PHX-01-Thermometer-Operation-Underarm/dp/B082W9S7LM/ref=zg_bs_g_boost_d_sccl_25/261-1198201-1142810?psc=1',\n",
       "  'product_id': 'B082W9S7LM'},\n",
       " {'url': 'https://www.amazon.in/Vooki-Ecofriendly-Stains-Descaler-Remover/dp/B0B4GBRRR3/ref=zg_bs_g_boost_d_sccl_12/261-1198201-1142810?psc=1',\n",
       "  'product_id': 'B0B4GBRRR3'},\n",
       " {'url': 'https://www.amazon.in/Phool-Mosquito-Repellent-Incense-Fragrances/dp/B08CMWTNFL/ref=zg_bs_g_boost_d_sccl_17/261-1198201-1142810?psc=1',\n",
       "  'product_id': 'B08CMWTNFL'},\n",
       " {'url': 'https://www.amazon.in/Indigenous-Unprocessed-Unfiltered-Unpasteurized-Disorders/dp/B07H5PVCH7/ref=zg_bs_g_boost_d_sccl_6/261-1198201-1142810?psc=1',\n",
       "  'product_id': 'B07H5PVCH7'},\n",
       " {'url': 'https://www.amazon.in/Finishing-Non-Greasy-Non-Sticky-Must-Have-Accessory/dp/B0BSLJV9M8/ref=zg_bs_g_boost_d_sccl_21/261-1198201-1142810?psc=1',\n",
       "  'product_id': 'B0BSLJV9M8'},\n",
       " {'url': 'https://www.amazon.in/Ballistic-Manscaping-Grooming-Waterproof-Cordless/dp/B0BD8RXV99/ref=zg_bs_g_boost_d_sccl_4/261-1198201-1142810?psc=1',\n",
       "  'product_id': 'B0BD8RXV99'},\n",
       " {'url': 'https://www.amazon.in/Be-Bodywise-Supplements-Strawberry-Multivitamins/dp/B092ZXX7XP/ref=zg_bs_g_boost_d_sccl_9/261-1198201-1142810?psc=1',\n",
       "  'product_id': 'B092ZXX7XP'},\n",
       " {'url': 'https://www.amazon.in/Frido-Trimmable-Insoles-Replacing-Existing/dp/B09RV5JVMM/ref=zg_bs_g_boost_d_sccl_23/261-1198201-1142810?psc=1',\n",
       "  'product_id': 'B09RV5JVMM'},\n",
       " {'url': 'https://www.amazon.in/Auravedic-Kumkumadi-Saffron-Brightening-Radiance/dp/B00YXTNFJC/ref=zg_bs_g_boost_d_sccl_20/261-1198201-1142810?psc=1',\n",
       "  'product_id': 'B00YXTNFJC'},\n",
       " {'url': 'https://www.amazon.in/Sirona-Sanitary-Napkin-Diapers-Disposal/dp/B01N6XGKFU/ref=zg_bs_g_boost_d_sccl_24/261-1198201-1142810?psc=1',\n",
       "  'product_id': 'B01N6XGKFU'},\n",
       " {'url': 'https://www.amazon.in/SOFTSPUN-Microfiber-Detailing-Polishing-Muticolor/dp/B01LZ3TGL2/ref=zg_bs_g_boost_d_sccl_28/261-1198201-1142810?psc=1',\n",
       "  'product_id': 'B01LZ3TGL2'},\n",
       " {'url': 'https://www.amazon.in/Control-White-Compressor-Complete-Nebulizer/dp/B07YB9QSRM/ref=zg_bs_g_boost_d_sccl_26/261-1198201-1142810?psc=1',\n",
       "  'product_id': 'B07YB9QSRM'},\n",
       " {'url': 'https://www.amazon.in/ASGARD-Melt-Blown-Fabric-Disposable-Unisex/dp/B08B1TVYT1/ref=zg_bs_g_boost_d_sccl_22/261-1198201-1142810?psc=1',\n",
       "  'product_id': 'B08B1TVYT1'},\n",
       " {'url': 'https://www.amazon.in/Honey-Twigs-Tasterz-Combo-Pack/dp/B0BBS6YFZR/ref=zg_bs_g_boost_d_sccl_11/261-1198201-1142810?psc=1',\n",
       "  'product_id': 'B0BBS6YFZR'},\n",
       " {'url': 'https://www.amazon.in/Sirona-Reusable-Blink-Razor-Women/dp/B09DYM1L2M/ref=zg_bs_g_boost_d_sccl_13/261-1198201-1142810?psc=1',\n",
       "  'product_id': 'B09DYM1L2M'},\n",
       " {'url': 'https://www.amazon.in/Whats-Up-Wellness-Buckthorn-Grapeseed/dp/B08YRFZGQF/ref=zg_bs_g_boost_d_sccl_10/261-1198201-1142810?psc=1',\n",
       "  'product_id': 'B08YRFZGQF'},\n",
       " {'url': 'https://www.amazon.in/SOFTSPUN-Microfiber-Cleaning-Cloth-340GSM/dp/B07GBZ1KV8/ref=zg_bs_g_boost_d_sccl_7/261-1198201-1142810?psc=1',\n",
       "  'product_id': 'B07GBZ1KV8'},\n",
       " {'url': 'https://www.amazon.in/Evair-Freshener-Essential-Fragrance-Diffuser/dp/B0BLH1SBPK/ref=zg_bs_g_boost_d_sccl_14/261-1198201-1142810?psc=1',\n",
       "  'product_id': 'B0BLH1SBPK'},\n",
       " {'url': 'https://www.amazon.in/Honey-Twigs-Ingredients-concentrate-Immunity/dp/B099F4QBKR/ref=zg_bs_g_boost_d_sccl_29/261-1198201-1142810?psc=1',\n",
       "  'product_id': 'B099F4QBKR'},\n",
       " {'url': 'https://www.amazon.in/Sirona-Blink-Glow-Razor-Women/dp/B08SQ6S5HF/ref=zg_bs_g_boost_d_sccl_27/261-1198201-1142810?psc=1',\n",
       "  'product_id': 'B08SQ6S5HF'},\n",
       " {'url': 'https://www.amazon.in/Vooki-Ecofriendly-Descaler-Remover-Bathroom/dp/B09XVJPQKZ/ref=zg_bs_g_boost_d_sccl_18/261-1198201-1142810?psc=1',\n",
       "  'product_id': 'B09XVJPQKZ'},\n",
       " {'url': 'https://www.amazon.in/Storescent-Reversible-Stuffed-Animal-Plushie/dp/B0C1SSMFVY/ref=zg_bs_g_boost_d_sccl_16/261-1198201-1142810?psc=1',\n",
       "  'product_id': 'B0C1SSMFVY'},\n",
       " {'url': 'https://www.amazon.in/SOFTSPUN-Microfiber-Cleaning-Detailing-Polishing/dp/B077BFH786/ref=zg_bs_g_boost_d_sccl_1/261-1198201-1142810?psc=1',\n",
       "  'product_id': 'B077BFH786'},\n",
       " {'url': 'https://www.amazon.in/PeeBuddy-Flushable-Disposable-Contact-Unhygienic/dp/B07MRNY1QQ/ref=zg_bs_g_boost_d_sccl_15/261-1198201-1142810?psc=1',\n",
       "  'product_id': 'B07MRNY1QQ'},\n",
       " {'url': 'https://www.amazon.in/LetsShave-Reusable-Painless-Derma-Planing-Sensitive/dp/B075V212VX/ref=zg_bs_g_boost_d_sccl_30/261-1198201-1142810?psc=1',\n",
       "  'product_id': 'B075V212VX'}]"
      ]
     },
     "execution_count": 32,
     "metadata": {},
     "output_type": "execute_result"
    }
   ],
   "source": [
    "cleaned_links"
   ]
  },
  {
   "cell_type": "code",
   "execution_count": 33,
   "id": "b78d703d",
   "metadata": {},
   "outputs": [],
   "source": [
    "def perform_scrape(page_links):\n",
    "    data_extracted = []\n",
    "    for link in page_links:\n",
    "        title, price = (None, None)\n",
    "        try:\n",
    "            title, price = scrape_product_page(link[\"url\"])\n",
    "        except:\n",
    "            pass\n",
    "        if title != None and price != None:\n",
    "            print(link)\n",
    "            print(title, price)\n",
    "            print(\"------\")\n",
    "            product_data = {\n",
    "                \"title\": title,\n",
    "                \"price\": price,\n",
    "                \"url\": link[\"url\"],\n",
    "                \"product_id\": link[\"product_id\"],\n",
    "            }\n",
    "            data_extracted.append(product_data)\n",
    "    "
   ]
  },
  {
   "cell_type": "code",
   "execution_count": 34,
   "id": "b69546cd",
   "metadata": {},
   "outputs": [
    {
     "name": "stdout",
     "output_type": "stream",
     "text": [
      "{'url': 'https://www.amazon.in/Sirona-Approved-Reusable-Menstrual-Silicone/dp/B07548J9WC/ref=zg_bs_g_boost_d_sccl_3/261-1198201-1142810?psc=1', 'product_id': 'B07548J9WC'}\n",
      "Sirona Reusable Menstrual Cup for Women | Medium Size with Pouch | Ultra Soft, Odour & Rash Free|100% Medical Grade Silicone|No Leakage|Protection for Up to 8-10 Hours | US FDA Registered,Pack of 1 ₹265.00\n",
      "------\n",
      "{'url': 'https://www.amazon.in/Hykes-Compression-Support-Running-Cycling/dp/B07J6GBG8H/ref=zg_bs_g_boost_d_sccl_19/261-1198201-1142810?psc=1', 'product_id': 'B07J6GBG8H'}\n",
      "Hykes Knee cap Compression Support for Gym Running Cycling Sports Jogging Workout Pain Relief (Material: Nylon & Spandex, Color:Green, Size:Medium) ₹699.00\n",
      "------\n",
      "{'url': 'https://www.amazon.in/Sirona-Disposable-Underarm-Peel-off-Unpleasant/dp/B01BKBOGDY/ref=zg_bs_g_boost_d_sccl_8/261-1198201-1142810?psc=1', 'product_id': 'B01BKBOGDY'}\n",
      "Sirona Disposable Underarm Sweat Pads for Men and Women, 24 Pads (Pack of 1) | Peel-off | Prevents Stains, Absorbs Sweat & Unpleasant Odour ₹249.00\n",
      "------\n",
      "{'url': 'https://www.amazon.in/FIXDERMA-Sunscreen-30-Protection-Resistant/dp/B089RJ6Z3K/ref=zg_bs_g_boost_d_sccl_5/261-1198201-1142810?psc=1', 'product_id': 'B089RJ6Z3K'}\n",
      "FIXDERMA Shadow Sunscreen Spf 30+ Gel, Broad Spectrum Sunscreen For Oily Skin, Uva & Uvb Protection For Unisex, Body & Face, Non Greasy & Water Resistant, 40g ₹186.00\n",
      "------\n",
      "{'url': 'https://www.amazon.in/AmbiTech-PHX-01-Thermometer-Operation-Underarm/dp/B082W9S7LM/ref=zg_bs_g_boost_d_sccl_25/261-1198201-1142810?psc=1', 'product_id': 'B082W9S7LM'}\n",
      "AmbiTech PHX-01 Digital Thermometer with One Touch Operation For Child and Adult Oral or Underarm Use |Made in India|1 Year Warranty ₹89.00\n",
      "------\n",
      "{'url': 'https://www.amazon.in/Vooki-Ecofriendly-Stains-Descaler-Remover/dp/B0B4GBRRR3/ref=zg_bs_g_boost_d_sccl_12/261-1198201-1142810?psc=1', 'product_id': 'B0B4GBRRR3'}\n",
      "Vooki Ecofriendly Hard Stains Spray and Lime Scale Stain Descaler Remover Spray, 500 Ml Each - (Combo Pack of 2) ₹508.00\n",
      "------\n",
      "{'url': 'https://www.amazon.in/Phool-Mosquito-Repellent-Incense-Fragrances/dp/B08CMWTNFL/ref=zg_bs_g_boost_d_sccl_17/261-1198201-1142810?psc=1', 'product_id': 'B08CMWTNFL'}\n",
      "Phool - Mosquito Repellent | Pack of 2 (80 Organic Dhoop Cones | 2 Fragrances- Citronella & Eucalyptus)+1 Free Ceramic Holder |Handrolled |Sulpher & Charcoal Free | 100% Organic (500 GMS) ₹290.00\n",
      "------\n",
      "{'url': 'https://www.amazon.in/Indigenous-Unprocessed-Unfiltered-Unpasteurized-Disorders/dp/B07H5PVCH7/ref=zg_bs_g_boost_d_sccl_6/261-1198201-1142810?psc=1', 'product_id': 'B07H5PVCH7'}\n",
      "INDIGENOUS HONEY Raw Organic Honey NMR Tested NPOP Organic Certified Pure Natural Unprocessed Original Honey - 530 g Glass Jar (Pack of 1) ₹548.00\n",
      "------\n",
      "{'url': 'https://www.amazon.in/Finishing-Non-Greasy-Non-Sticky-Must-Have-Accessory/dp/B0BSLJV9M8/ref=zg_bs_g_boost_d_sccl_21/261-1198201-1142810?psc=1', 'product_id': 'B0BSLJV9M8'}\n",
      "NOURISH MANTRA Hair Finishing Stick Gel, Your Go-To Hair Fixer, Non-Greasy And Non-Sticky, Does Not Leaves A White Cast, A Must-Have Hair Accessory For Unisex, 12 Ml, Pack of 1 ₹349.00\n",
      "------\n",
      "{'url': 'https://www.amazon.in/Ballistic-Manscaping-Grooming-Waterproof-Cordless/dp/B0BD8RXV99/ref=zg_bs_g_boost_d_sccl_4/261-1198201-1142810?psc=1', 'product_id': 'B0BD8RXV99'}\n",
      "Zlade Ballistic LITE Manscaping Body Trimmer for Men - Beard, Body, Pubic Hair Grooming, Private Part Shaving - Waterproof, Cordless AAA Battery Powered - Smart Travel Lock, 3 Second Long Press Button to Start, Colour Black ₹1,299.00\n",
      "------\n",
      "{'url': 'https://www.amazon.in/Be-Bodywise-Supplements-Strawberry-Multivitamins/dp/B092ZXX7XP/ref=zg_bs_g_boost_d_sccl_9/261-1198201-1142810?psc=1', 'product_id': 'B092ZXX7XP'}\n",
      "Be Bodywise Biotin Hair Gummies for Stronger, Shinier Hair & Nails | 60 Day Pack | With Biotin, Zinc, Folic Acid, Fibre & Multivitamin | Strawberry Flavour | No Added Sugar, Gut Friendly ₹899.00\n",
      "------\n",
      "{'url': 'https://www.amazon.in/Frido-Trimmable-Insoles-Replacing-Existing/dp/B09RV5JVMM/ref=zg_bs_g_boost_d_sccl_23/261-1198201-1142810?psc=1', 'product_id': 'B09RV5JVMM'}\n",
      "Frido Dual Gel Heavy Duty Trimmable Insoles, For Loose Shoes or Replacing Existing Insoles, Thick Shoe Inserts, Extra Comfort and Support, Proudly Made in India, (Size 9-13 UK) - Pack of 1 Pair ₹896.00\n",
      "------\n",
      "{'url': 'https://www.amazon.in/Auravedic-Kumkumadi-Saffron-Brightening-Radiance/dp/B00YXTNFJC/ref=zg_bs_g_boost_d_sccl_20/261-1198201-1142810?psc=1', 'product_id': 'B00YXTNFJC'}\n",
      "Auravedic Kumkumadi Oil, 100 Ml. Kumkumadi Face oil for Glowing Skin. Kumkumadi Tailam from kerala. ₹356.00\n",
      "------\n",
      "{'url': 'https://www.amazon.in/Sirona-Sanitary-Napkin-Diapers-Disposal/dp/B01N6XGKFU/ref=zg_bs_g_boost_d_sccl_24/261-1198201-1142810?psc=1', 'product_id': 'B01N6XGKFU'}\n",
      "Sirona Sanitary Disposal Bags | 45 Bags | Pad Disposable Bags for Discreet Disposal of Tampons, Condoms, Sanitary Pads, Panty Liner & Personal Hygiene Waste (Green) ₹149.00\n",
      "------\n",
      "{'url': 'https://www.amazon.in/SOFTSPUN-Microfiber-Detailing-Polishing-Muticolor/dp/B01LZ3TGL2/ref=zg_bs_g_boost_d_sccl_28/261-1198201-1142810?psc=1', 'product_id': 'B01LZ3TGL2'}\n",
      "SOFTSPUN Microfiber Cloth 5pcs 40x40cms 340 GSM Multi-Color! Thick Lint & Streak-Free Multipurpose Cloths Automotive Microfibre Towels for Car Bike Cleaning Polishing Washing & Detailing. ₹355.00\n",
      "------\n",
      "{'url': 'https://www.amazon.in/Control-White-Compressor-Complete-Nebulizer/dp/B07YB9QSRM/ref=zg_bs_g_boost_d_sccl_26/261-1198201-1142810?psc=1', 'product_id': 'B07YB9QSRM'}\n",
      "Control D Blue & White Compressor Complete Kit Nebulizer with Child and Adult Masks ₹899.00\n",
      "------\n",
      "{'url': 'https://www.amazon.in/ASGARD-Melt-Blown-Fabric-Disposable-Unisex/dp/B08B1TVYT1/ref=zg_bs_g_boost_d_sccl_22/261-1198201-1142810?psc=1', 'product_id': 'B08B1TVYT1'}\n",
      "ASGARD Melt-Blown Fabric Disposable Face Mask with Nose Clip (Blue, Pack of 100) for Unisex ₹375.00\n",
      "------\n",
      "{'url': 'https://www.amazon.in/Honey-Twigs-Tasterz-Combo-Pack/dp/B0BBS6YFZR/ref=zg_bs_g_boost_d_sccl_11/261-1198201-1142810?psc=1', 'product_id': 'B0BBS6YFZR'}\n",
      "Honey Twigs Tasterz Honey Combo Pack - Himalayan Multiflora, Natural Litchi, Cinnamon, Vanilla, Lemon and Turmeric Infused Honey : 3 Sachets x 6 flavors | 100% Natural & Traceable Source | No Added Sugar ₹400.00\n",
      "------\n",
      "{'url': 'https://www.amazon.in/Sirona-Reusable-Blink-Razor-Women/dp/B09DYM1L2M/ref=zg_bs_g_boost_d_sccl_13/261-1198201-1142810?psc=1', 'product_id': 'B09DYM1L2M'}\n",
      "Sirona Reusable Blink & Glow Face Razor for Women - 1 Razor | Painless Facial Hair Removal | Eyebrow Shaper | For Eyebrows, Upper Lip, Forehead, Peach Fuzz, Chin and Sideburns | Dermaplaning Tool ₹89.00\n",
      "------\n",
      "{'url': 'https://www.amazon.in/Whats-Up-Wellness-Buckthorn-Grapeseed/dp/B08YRFZGQF/ref=zg_bs_g_boost_d_sccl_10/261-1198201-1142810?psc=1', 'product_id': 'B08YRFZGQF'}\n",
      "What's Up Wellness Biotin Gummies for Hair Growth, Beauty Skin & Hair Gummies for Bright Skin & Strong Nails, Vitamin A to E, Folic Acid, Zinc, Aloe Vera for Men & Women, 30 Days Pack (30 Gummies) ₹699.00\n",
      "------\n",
      "{'url': 'https://www.amazon.in/SOFTSPUN-Microfiber-Cleaning-Cloth-340GSM/dp/B07GBZ1KV8/ref=zg_bs_g_boost_d_sccl_7/261-1198201-1142810?psc=1', 'product_id': 'B07GBZ1KV8'}\n",
      "SOFTSPUN Microfiber Cleaning Cloths, 4pcs 40x40cms 340GSM Multi-Colour! Highly Absorbent Lint and Streak Free Multi -Purpose Wash Cloth for Kitchen Window Stainless Steel silverware. ₹275.00\n",
      "------\n",
      "{'url': 'https://www.amazon.in/Evair-Freshener-Essential-Fragrance-Diffuser/dp/B0BLH1SBPK/ref=zg_bs_g_boost_d_sccl_14/261-1198201-1142810?psc=1', 'product_id': 'B0BLH1SBPK'}\n",
      "Evair Hanging Car Air Freshener | Car Perfume | Car Accessories Interior | Car Aroma with Essential Oils Fragrance in Glass Bottle with Wooden Diffuser Lid | 10 ml - Pack of 1 (Sandalwood) ₹455.00\n",
      "------\n",
      "{'url': 'https://www.amazon.in/Honey-Twigs-Ingredients-concentrate-Immunity/dp/B099F4QBKR/ref=zg_bs_g_boost_d_sccl_29/261-1198201-1142810?psc=1', 'product_id': 'B099F4QBKR'}\n",
      "Honey Twigs Lemon Honey | 100% Natural&Pure Honey, 240gms (30 Single Sachets) | Natural Ingredients - Traceabe Source | Grade A Honey | Zero Additives | Zero Added Sugar | Infused with Natural Lemon Concentrate | For Stronger Immunity ₹315.00\n",
      "------\n",
      "{'url': 'https://www.amazon.in/Sirona-Blink-Glow-Razor-Women/dp/B08SQ6S5HF/ref=zg_bs_g_boost_d_sccl_27/261-1198201-1142810?psc=1', 'product_id': 'B08SQ6S5HF'}\n",
      "Sirona Face Razor for Women Facial Hair - Pack of 3 | Painless Facial Hair Removal | Eyebrow Shaper | For Eyebrows, Upper Lip, Forehead, Peach Fuzz, Chin and Sideburns | Dermaplaning Tool ₹189.00\n",
      "------\n",
      "{'url': 'https://www.amazon.in/Vooki-Ecofriendly-Descaler-Remover-Bathroom/dp/B09XVJPQKZ/ref=zg_bs_g_boost_d_sccl_18/261-1198201-1142810?psc=1', 'product_id': 'B09XVJPQKZ'}\n",
      "Vooki Ecofriendly Tough Lime Scale Hard Water Stain Remover, Spray and Scrub Cleaner for Bathroom,Taps, Faucet, Basins, Showers & Floor Tiles Cleaner- 500 ml (Pack of 2) ₹508.00\n",
      "------\n",
      "{'url': 'https://www.amazon.in/Storescent-Reversible-Stuffed-Animal-Plushie/dp/B0C1SSMFVY/ref=zg_bs_g_boost_d_sccl_16/261-1198201-1142810?psc=1', 'product_id': 'B0C1SSMFVY'}\n",
      "Storescent Reversible Cat Soft Toys for Kids, Cat Stuffed Animal Plush Soft Toys for Boys and Girls | Cat Plushie Toy (Happy Black/Angry Grey) ₹213.00\n",
      "------\n",
      "{'url': 'https://www.amazon.in/SOFTSPUN-Microfiber-Cleaning-Detailing-Polishing/dp/B077BFH786/ref=zg_bs_g_boost_d_sccl_1/261-1198201-1142810?psc=1', 'product_id': 'B077BFH786'}\n",
      "SOFTSPUN Microfiber Cloth - 4 pcs - 40x40 cms - 340 GSM Grey- Thick Lint & Streak-Free Multipurpose Cloths - Automotive Microfibre Towels for Car Bike Cleaning Polishing Washing & Detailing. ₹299.00\n",
      "------\n",
      "{'url': 'https://www.amazon.in/PeeBuddy-Flushable-Disposable-Contact-Unhygienic/dp/B07MRNY1QQ/ref=zg_bs_g_boost_d_sccl_15/261-1198201-1142810?psc=1', 'product_id': 'B07MRNY1QQ'}\n",
      "PEE BUDDY Disposable Toilet Seat Covers - 20 Sheets | No Direct Contact with Unhygienic Seats | Easy To Dispose | Nature Friendly | Must Have for Women and Men ₹129.00\n",
      "------\n",
      "{'url': 'https://www.amazon.in/LetsShave-Reusable-Painless-Derma-Planing-Sensitive/dp/B075V212VX/ref=zg_bs_g_boost_d_sccl_30/261-1198201-1142810?psc=1', 'product_id': 'B075V212VX'}\n",
      "LetsShave Evior Reusable Face & Eyebrow Razor For Women - Pack of 3 | For Painless Hair Removal | Razor for Face, Eyebrows, Upperlips, Chin, Side Locks, Forehead | Face Razor for Women ₹179.55\n",
      "------\n"
     ]
    }
   ],
   "source": [
    "perform_scrape(page_links=cleaned_links)\n"
   ]
  }
 ],
 "metadata": {
  "kernelspec": {
   "display_name": "Python 3 (ipykernel)",
   "language": "python",
   "name": "python3"
  },
  "language_info": {
   "codemirror_mode": {
    "name": "ipython",
    "version": 3
   },
   "file_extension": ".py",
   "mimetype": "text/x-python",
   "name": "python",
   "nbconvert_exporter": "python",
   "pygments_lexer": "ipython3",
   "version": "3.11.3"
  }
 },
 "nbformat": 4,
 "nbformat_minor": 5
}
