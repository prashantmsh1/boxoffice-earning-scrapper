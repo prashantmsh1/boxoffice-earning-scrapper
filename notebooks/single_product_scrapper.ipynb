{
 "cells": [
  {
   "cell_type": "code",
   "execution_count": 32,
   "id": "375fc12e-696d-44c0-9935-9d6c1ab618fd",
   "metadata": {},
   "outputs": [],
   "source": [
    "import requests\n",
    "from requests_html import HTML\n",
    "from selenium import webdriver\n",
    "from selenium.webdriver.chrome.options import Options # for headless mode\n"
   ]
  },
  {
   "cell_type": "code",
   "execution_count": 33,
   "id": "d876f03d",
   "metadata": {},
   "outputs": [
    {
     "name": "stderr",
     "output_type": "stream",
     "text": [
      "The chromedriver version (120.0.6099.109) detected in PATH at C:\\chromedriver\\chromedriver.exe might not be compatible with the detected chrome version (121.0.6167.160); currently, chromedriver 121.0.6167.85 is recommended for chrome 121.*, so it is advised to delete the driver in PATH and retry\n"
     ]
    }
   ],
   "source": [
    "options = Options()\n",
    "options.add_argument(\"--headless\") # Runs Chrome in headless mode.\n",
    "driver = webdriver.Chrome(options=options)\n"
   ]
  },
  {
   "cell_type": "code",
   "execution_count": 39,
   "id": "b7972c08-82d3-464b-92d5-272bd0d5714b",
   "metadata": {},
   "outputs": [],
   "source": [
    "url=\"https://www.amazon.in/gp/product/B0CHYSLR4W/ref=ppx_yo_dt_b_asin_title_o00_s00?ie=UTF8&th=1\"\n",
    "title_lookup=\"#productTitle\"\n",
    "price_lookup=\".a-price-whole\"\n"
   ]
  },
  {
   "cell_type": "code",
   "execution_count": 35,
   "id": "efe4b523",
   "metadata": {},
   "outputs": [],
   "source": [
    "driver.get(url)\n",
    "body_el=driver.find_element(by=\"css selector\",value=\"body\")\n",
    "html_str=body_el.get_attribute(\"innerHTML\")\n",
    "# print(html_str)"
   ]
  },
  {
   "cell_type": "code",
   "execution_count": 43,
   "id": "dd80d9a0",
   "metadata": {},
   "outputs": [
    {
     "name": "stdout",
     "output_type": "stream",
     "text": [
      "RPM Euro Games Wireless Gaming Mouse Bluetooth & 2.4 G Connect\n",
      "599. hey\n"
     ]
    }
   ],
   "source": [
    "html_obj = HTML(html=html_str)\n",
    "product_title=html_obj.find(title_lookup, first=True).text\n",
    "product_price=html_obj.find(price_lookup, first=True).text\n",
    "print(product_title.split(\"|\")[0].strip(\" \"))\n",
    "print(product_price,)\n"
   ]
  }
 ],
 "metadata": {
  "kernelspec": {
   "display_name": "Python 3 (ipykernel)",
   "language": "python",
   "name": "python3"
  },
  "language_info": {
   "codemirror_mode": {
    "name": "ipython",
    "version": 3
   },
   "file_extension": ".py",
   "mimetype": "text/x-python",
   "name": "python",
   "nbconvert_exporter": "python",
   "pygments_lexer": "ipython3",
   "version": "3.11.3"
  }
 },
 "nbformat": 4,
 "nbformat_minor": 5
}
